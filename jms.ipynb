{
 "cells": [
  {
   "cell_type": "markdown",
   "metadata": {},
   "source": [
    "# DonorsChoose\n"
   ]
  },
  {
   "cell_type": "markdown",
   "metadata": {},
   "source": [
    "## Exploratry data analysis :\n"
   ]
  },
  {
   "cell_type": "markdown",
   "metadata": {},
   "source": [
    "#### 1.1 Readning the data"
   ]
  },
  {
   "cell_type": "code",
   "execution_count": 1,
   "metadata": {},
   "outputs": [],
   "source": [
    "import pandas as pd"
   ]
  },
  {
   "cell_type": "code",
   "execution_count": 2,
   "metadata": {},
   "outputs": [
    {
     "name": "stdout",
     "output_type": "stream",
     "text": [
      "Index(['Unnamed: 0', 'id', 'teacher_id', 'teacher_prefix', 'school_state',\n",
      "       'project_submitted_datetime', 'project_grade_category',\n",
      "       'project_subject_categories', 'project_subject_subcategories',\n",
      "       'project_title', 'project_essay_1', 'project_essay_2',\n",
      "       'project_essay_3', 'project_essay_4', 'project_resource_summary',\n",
      "       'teacher_number_of_previously_posted_projects', 'project_is_approved'],\n",
      "      dtype='object')\n"
     ]
    }
   ],
   "source": [
    "## import data\n",
    "train_df = pd.read_csv(\"train_data.csv\",nrows=5000)\n",
    "resources_df = pd.read_csv(\"resources.csv\",nrows=5000)\n",
    "#print(train_df.head(3))\n",
    "#print(\"=\"*50)\n",
    "#print(resources_df.head(3))\n",
    "print(train_df.columns)"
   ]
  },
  {
   "cell_type": "code",
   "execution_count": 3,
   "metadata": {},
   "outputs": [
    {
     "name": "stdout",
     "output_type": "stream",
     "text": [
      "train dataset :  (5000, 17)\n",
      "==================================================\n",
      "resources dataset :  (5000, 4)\n"
     ]
    }
   ],
   "source": [
    "### size of the dataset\n",
    "print(\"train dataset : \",train_df.shape)\n",
    "print(\"=\"*50)\n",
    "print(\"resources dataset : \",resources_df.shape)"
   ]
  },
  {
   "cell_type": "code",
   "execution_count": 4,
   "metadata": {},
   "outputs": [
    {
     "name": "stdout",
     "output_type": "stream",
     "text": [
      "train dataset column :  Index(['Unnamed: 0', 'id', 'teacher_id', 'teacher_prefix', 'school_state',\n",
      "       'project_submitted_datetime', 'project_grade_category',\n",
      "       'project_subject_categories', 'project_subject_subcategories',\n",
      "       'project_title', 'project_essay_1', 'project_essay_2',\n",
      "       'project_essay_3', 'project_essay_4', 'project_resource_summary',\n",
      "       'teacher_number_of_previously_posted_projects', 'project_is_approved'],\n",
      "      dtype='object')\n",
      "==================================================\n",
      "resources data columns :  Index(['id', 'description', 'quantity', 'price'], dtype='object')\n"
     ]
    }
   ],
   "source": [
    "### columns of the dataset\n",
    "print(\"train dataset column : \",train_df.columns)\n",
    "print(\"=\"*50)\n",
    "print(\"resources data columns : \",resources_df.columns)"
   ]
  },
  {
   "cell_type": "code",
   "execution_count": 5,
   "metadata": {},
   "outputs": [
    {
     "name": "stdout",
     "output_type": "stream",
     "text": [
      "(5000,)\n"
     ]
    }
   ],
   "source": [
    "final_df = train_df[\"project_is_approved\"]\n",
    "print(final_df.shape)"
   ]
  },
  {
   "cell_type": "markdown",
   "metadata": {},
   "source": [
    "### 1.2 data analysis :"
   ]
  },
  {
   "cell_type": "code",
   "execution_count": 6,
   "metadata": {},
   "outputs": [
    {
     "name": "stdout",
     "output_type": "stream",
     "text": [
      "Total Approved project :  4237\n",
      "==================================================\n",
      "Total not Approved Project :  763\n"
     ]
    }
   ],
   "source": [
    "### % vise project data which is Approved or Not Appproved\n",
    "total_project = train_df[\"project_is_approved\"].value_counts()\n",
    "approved_project = total_project[1]\n",
    "not_approved_project  = total_project[0]\n",
    "print(\"Total Approved project : \",approved_project)\n",
    "print(\"=\"*50)\n",
    "print(\"Total not Approved Project : \",not_approved_project)"
   ]
  },
  {
   "cell_type": "code",
   "execution_count": 7,
   "metadata": {},
   "outputs": [
    {
     "name": "stdout",
     "output_type": "stream",
     "text": [
      "Approved project  84.74000000000001 %\n",
      "==================================================\n",
      "Not Approved project :  15.260000000000002 %\n"
     ]
    }
   ],
   "source": [
    "### % data\n",
    "approved_percentage = (approved_project/(approved_project+not_approved_project))*100\n",
    "Not_approved_percentage = (not_approved_project/(approved_project+not_approved_project))*100\n",
    "print(\"Approved project \",approved_percentage,\"%\")\n",
    "print(\"=\"*50)\n",
    "print(\"Not Approved project : \",Not_approved_percentage,\"%\")"
   ]
  },
  {
   "cell_type": "markdown",
   "metadata": {},
   "source": [
    "### summary :\n",
    "                        firtly we took 5000 datapoints of both(train.csv,resource.csv) dataset after that we found      \n",
    "                        shape & size of the dataset.\n",
    "                        In train.csv dataset :\n",
    "                                    1) Total Approved project :  4237(84.74 %)\n",
    "                                    2) Total not Approved Project :  763(15.26 %)"
   ]
  },
  {
   "cell_type": "markdown",
   "metadata": {},
   "source": [
    "### 1.3 visualize data "
   ]
  },
  {
   "cell_type": "code",
   "execution_count": 8,
   "metadata": {},
   "outputs": [],
   "source": [
    "import numpy as np\n",
    "import matplotlib.pyplot as plt\n",
    "\n"
   ]
  },
  {
   "cell_type": "code",
   "execution_count": 9,
   "metadata": {},
   "outputs": [
    {
     "data": {
      "image/png": "[encoded data removed]",
      "text/plain": [
       "<Figure size 432x432 with 1 Axes>"
      ]
     },
     "metadata": {},
     "output_type": "display_data"
    }
   ],
   "source": [
    "### plotting pie and danut chart \n",
    "fig, ax = plt.subplots(figsize=(6, 6), subplot_kw=dict(aspect=\"equal\"))\n",
    "\n",
    "recipe = [\"Approved\",\"Not_Approved\"]\n",
    "\n",
    "data = [approved_project,not_approved_project]\n",
    "ingredients = [x.split()[-1] for x in recipe]\n",
    "\n",
    "\n",
    "def func(pct, allvals):\n",
    "    absolute = int(pct/100.*np.sum(allvals))\n",
    "    return \"{:.1f}%\\n({:d} )\".format(pct, absolute)\n",
    "\n",
    "\n",
    "wedges, texts, autotexts = ax.pie(data, autopct=lambda pct: func(pct, data),\n",
    "                                  textprops=dict(color=\"w\"))\n",
    "\n",
    "ax.legend(wedges, ingredients,\n",
    "          title=\"Ingredients\",\n",
    "          loc=\"center left\",\n",
    "          bbox_to_anchor=(1, 0, 0.5, 1))\n",
    "\n",
    "plt.setp(autotexts, size=8, weight=\"bold\")\n",
    "\n",
    "ax.set_title(\"Nmber of projects that are Accepted and not accepted\")\n",
    "\n",
    "plt.show()"
   ]
  },
  {
   "cell_type": "markdown",
   "metadata": {},
   "source": [
    "#### Observation : \n",
    "                       through danut chart plot we can eassily figure out Approved project and rejected project\n",
    "                         1) Total Approved project :  (84.74 %)\n",
    "                         2) Total not Approved Project : (15.26 %)"
   ]
  },
  {
   "cell_type": "code",
   "execution_count": 10,
   "metadata": {},
   "outputs": [
    {
     "name": "stdout",
     "output_type": "stream",
     "text": [
      "0    IN\n",
      "1    FL\n",
      "2    AZ\n",
      "3    KY\n",
      "4    TX\n",
      "Name: school_state, dtype: object\n"
     ]
    }
   ],
   "source": [
    "print(train_df[\"school_state\"].head(5))"
   ]
  },
  {
   "cell_type": "markdown",
   "metadata": {},
   "source": [
    "### 2.Univariate analysis : school state"
   ]
  },
  {
   "cell_type": "code",
   "execution_count": 11,
   "metadata": {},
   "outputs": [
    {
     "name": "stdout",
     "output_type": "stream",
     "text": [
      "  school_state  project_is_approved\n",
      "0           AK             0.705882\n",
      "1           AL             0.821429\n",
      "2           AR             0.884615\n",
      "3           AZ             0.787879\n",
      "4           CA             0.844413\n",
      "==================================================\n",
      "   school_state  project_is_approved\n",
      "46           VT             0.500000\n",
      "47           WA             0.865979\n",
      "48           WI             0.819444\n",
      "49           WV             0.857143\n",
      "50           WY             0.777778\n"
     ]
    }
   ],
   "source": [
    "temp = pd.DataFrame(train_df.groupby(\"school_state\")[\"project_is_approved\"].apply(np.mean)).reset_index()\n",
    "print(temp.head(5))\n",
    "print(\"=\"*50)\n",
    "print(temp.tail(5))"
   ]
  },
  {
   "cell_type": "code",
   "execution_count": 12,
   "metadata": {},
   "outputs": [
    {
     "name": "stdout",
     "output_type": "stream",
     "text": [
      "   state_code  num_proposals\n",
      "46         VT       0.500000\n",
      "41         SD       0.687500\n",
      "7          DC       0.695652\n",
      "0          AK       0.705882\n",
      "50         WY       0.777778\n",
      "==================================================\n",
      "   state_code  num_proposals\n",
      "11         HI       0.964286\n",
      "16         KS       0.966667\n",
      "28         ND       1.000000\n",
      "8          DE       1.000000\n",
      "30         NH       1.000000\n"
     ]
    }
   ],
   "source": [
    "##  here we replace the column name ===>>  school_state =state_code ,project_is_approved=num_proposals\n",
    "temp.columns = ['state_code','num_proposals']\n",
    "temp.sort_values(by=['num_proposals'],inplace=True,kind='quicksort')\n",
    "\n",
    "### top %  Approval project\n",
    "print(temp.head(5))\n",
    "print(\"=\"*50)\n",
    "###  % lowest Approval project\n",
    "print(temp.tail(5))"
   ]
  },
  {
   "cell_type": "markdown",
   "metadata": {},
   "source": [
    "#### observation :-\n",
    "                        1)based on school state we can figure out mean of project is Approved.after that reindex it.\n",
    "                        2) we replace the columnns name (school_state,project_is_approved)====>(state_code,num_proposals) \n",
    "                        and sorting the data through num_proposals."
   ]
  },
  {
   "cell_type": "markdown",
   "metadata": {},
   "source": [
    "### 2.1 stack bar graph "
   ]
  },
  {
   "cell_type": "code",
   "execution_count": 13,
   "metadata": {},
   "outputs": [],
   "source": [
    "#stacked bar plots matplotlib: https://matplotlib.org/gallery/lines_bars_and_markers/bar_stacked.html\n",
    "def stack_plot(data, xtick, col2='project_is_approved', col3='total'):\n",
    "    ind = np.arange(data.shape[0])\n",
    "    \n",
    "    plt.figure(figsize=(20,5))\n",
    "    p1 = plt.bar(ind, data[col3].values)\n",
    "    p2 = plt.bar(ind, data[col2].values)\n",
    "\n",
    "    plt.ylabel('Projects')\n",
    "    plt.title('Number of projects aproved vs rejected')\n",
    "    plt.xticks(ind, list(data[xtick].values))\n",
    "    plt.legend((p1[0], p2[0]), ('total', 'accepted'))\n",
    "    plt.show()"
   ]
  },
  {
   "cell_type": "code",
   "execution_count": 14,
   "metadata": {},
   "outputs": [],
   "source": [
    "def univariate_barplots(data, col1, col2='project_is_approved', top=False):\n",
    "    # Count number of zeros in dataframe python: https://stackoverflow.com/a/51540521/4084039\n",
    "    temp = pd.DataFrame(train_df.groupby(col1)[col2].agg(lambda x: x.eq(1).sum())).reset_index()\n",
    "\n",
    "    # Pandas dataframe grouby count: https://stackoverflow.com/a/19385591/4084039\n",
    "    temp['total'] = pd.DataFrame(train_df.groupby(col1)[col2].agg({'total':'count'})).reset_index()['total']\n",
    "    temp['Avg'] = pd.DataFrame(train_df.groupby(col1)[col2].agg({'Avg':'mean'})).reset_index()['Avg']\n",
    "    \n",
    "    temp.sort_values(by=['total'],inplace=True, ascending=False)\n",
    "    \n",
    "    if top:\n",
    "        temp = temp[0:top]\n",
    "    \n",
    "    stack_plot(temp, xtick=col1, col2=col2, col3='total')\n",
    "    print(temp.head(5))\n",
    "    print(\"=\"*50)\n",
    "    print(temp.tail(5))"
   ]
  },
  {
   "cell_type": "code",
   "execution_count": 15,
   "metadata": {},
   "outputs": [
    {
     "name": "stderr",
     "output_type": "stream",
     "text": [
      "C:\\ProgramData\\Anaconda3\\lib\\site-packages\\ipykernel_launcher.py:6: FutureWarning: using a dict on a Series for aggregation\n",
      "is deprecated and will be removed in a future version\n",
      "  \n",
      "C:\\ProgramData\\Anaconda3\\lib\\site-packages\\ipykernel_launcher.py:7: FutureWarning: using a dict on a Series for aggregation\n",
      "is deprecated and will be removed in a future version\n",
      "  import sys\n"
     ]
    },
    {
     "data": {
      "image/png": "[encoded data removed]",
      "text/plain": [
       "<Figure size 1440x360 with 1 Axes>"
      ]
     },
     "metadata": {
      "needs_background": "light"
     },
     "output_type": "display_data"
    },
    {
     "name": "stdout",
     "output_type": "stream",
     "text": [
      "   school_state  project_is_approved  total       Avg\n",
      "4            CA                  597    707  0.844413\n",
      "43           TX                  286    352  0.812500\n",
      "34           NY                  299    342  0.874269\n",
      "9            FL                  215    261  0.823755\n",
      "27           NC                  216    246  0.878049\n",
      "==================================================\n",
      "   school_state  project_is_approved  total       Avg\n",
      "28           ND                   11     11  1.000000\n",
      "8            DE                   11     11  1.000000\n",
      "50           WY                    7      9  0.777778\n",
      "26           MT                    5      6  0.833333\n",
      "46           VT                    1      2  0.500000\n"
     ]
    }
   ],
   "source": [
    "univariate_barplots(train_df,'school_state','project_is_approved',False)"
   ]
  },
  {
   "cell_type": "markdown",
   "metadata": {},
   "source": [
    "#### observation :\n",
    "                 this graph show total number of project state wise and how many project are approved andhow many project    are rejected.\n",
    "                 1) yellow + blue ====> total no. of project state wise\n",
    "                 2 ) yellow =========> project is approved\n",
    "                 3) blue =============> rejected project"
   ]
  },
  {
   "cell_type": "markdown",
   "metadata": {},
   "source": [
    "#### uni variate analysis : teacher_prefix"
   ]
  },
  {
   "cell_type": "code",
   "execution_count": 16,
   "metadata": {},
   "outputs": [
    {
     "name": "stderr",
     "output_type": "stream",
     "text": [
      "C:\\ProgramData\\Anaconda3\\lib\\site-packages\\ipykernel_launcher.py:6: FutureWarning: using a dict on a Series for aggregation\n",
      "is deprecated and will be removed in a future version\n",
      "  \n",
      "C:\\ProgramData\\Anaconda3\\lib\\site-packages\\ipykernel_launcher.py:7: FutureWarning: using a dict on a Series for aggregation\n",
      "is deprecated and will be removed in a future version\n",
      "  import sys\n"
     ]
    },
    {
     "data": {
      "image/png": "[encoded data removed]",
      "text/plain": [
       "<Figure size 1440x360 with 1 Axes>"
      ]
     },
     "metadata": {
      "needs_background": "light"
     },
     "output_type": "display_data"
    },
    {
     "name": "stdout",
     "output_type": "stream",
     "text": [
      "  teacher_prefix  project_is_approved  total       Avg\n",
      "1           Mrs.                 2173   2560  0.848828\n",
      "2            Ms.                 1554   1845  0.842276\n",
      "0            Mr.                  433    495  0.874747\n",
      "3        Teacher                   77    100  0.770000\n",
      "==================================================\n",
      "  teacher_prefix  project_is_approved  total       Avg\n",
      "1           Mrs.                 2173   2560  0.848828\n",
      "2            Ms.                 1554   1845  0.842276\n",
      "0            Mr.                  433    495  0.874747\n",
      "3        Teacher                   77    100  0.770000\n"
     ]
    }
   ],
   "source": [
    "univariate_barplots(train_df,'teacher_prefix','project_is_approved',False)"
   ]
  },
  {
   "cell_type": "markdown",
   "metadata": {},
   "source": [
    "#### observation :\n",
    "                it will show total number of teacher prefix\n",
    "                1) yellow + blue ======> total number of teacher prefix\n",
    "                2) yellow =====> project is approved\n",
    "                3) blue =======> rejected project"
   ]
  },
  {
   "cell_type": "markdown",
   "metadata": {},
   "source": [
    "#### Uni variate analysis : project_grade_category"
   ]
  },
  {
   "cell_type": "code",
   "execution_count": 17,
   "metadata": {},
   "outputs": [
    {
     "name": "stderr",
     "output_type": "stream",
     "text": [
      "C:\\ProgramData\\Anaconda3\\lib\\site-packages\\ipykernel_launcher.py:6: FutureWarning: using a dict on a Series for aggregation\n",
      "is deprecated and will be removed in a future version\n",
      "  \n",
      "C:\\ProgramData\\Anaconda3\\lib\\site-packages\\ipykernel_launcher.py:7: FutureWarning: using a dict on a Series for aggregation\n",
      "is deprecated and will be removed in a future version\n",
      "  import sys\n"
     ]
    },
    {
     "data": {
      "image/png": "[encoded data removed]",
      "text/plain": [
       "<Figure size 1440x360 with 1 Axes>"
      ]
     },
     "metadata": {
      "needs_background": "light"
     },
     "output_type": "display_data"
    },
    {
     "name": "stdout",
     "output_type": "stream",
     "text": [
      "  project_grade_category  project_is_approved  total       Avg\n",
      "3          Grades PreK-2                 1689   2002  0.843656\n",
      "0             Grades 3-5                 1491   1729  0.862348\n",
      "1             Grades 6-8                  660    785  0.840764\n",
      "2            Grades 9-12                  397    484  0.820248\n",
      "==================================================\n",
      "  project_grade_category  project_is_approved  total       Avg\n",
      "3          Grades PreK-2                 1689   2002  0.843656\n",
      "0             Grades 3-5                 1491   1729  0.862348\n",
      "1             Grades 6-8                  660    785  0.840764\n",
      "2            Grades 9-12                  397    484  0.820248\n"
     ]
    }
   ],
   "source": [
    "univariate_barplots(train_df,'project_grade_category','project_is_approved',False)"
   ]
  },
  {
   "cell_type": "markdown",
   "metadata": {},
   "source": [
    "####  observation:\n",
    "                   Above plot show total number of project based on  project_grade_category .\n",
    "                   1) yellow + blue ====> total number of project  project_grade_category wise\n",
    "                   2) yellow========>Approved project  project_grade_category  wise\n",
    "                   3) blue=========> rejected project  project_grade_category wise"
   ]
  },
  {
   "cell_type": "code",
   "execution_count": 18,
   "metadata": {},
   "outputs": [],
   "source": [
    "#print(train_df['project_subject_categories'])"
   ]
  },
  {
   "cell_type": "markdown",
   "metadata": {},
   "source": [
    "####  univariate analysis : project_subject_categories"
   ]
  },
  {
   "cell_type": "code",
   "execution_count": 19,
   "metadata": {},
   "outputs": [],
   "source": [
    "catogories = list(train_df['project_subject_categories'].values)\n",
    "#print(catogories)\n",
    "# remove special characters from list of strings python: https://stackoverflow.com/a/47301924/4084039\n",
    "\n",
    "# https://www.geeksforgeeks.org/removing-stop-words-nltk-python/\n",
    "# https://stackoverflow.com/questions/23669024/how-to-strip-a-specific-word-from-a-string\n",
    "# https://stackoverflow.com/questions/8270092/remove-all-whitespace-in-a-string-in-python\n",
    "cat_list = []\n",
    "for i in catogories:\n",
    "    temp = \"\"\n",
    "    # consider we have text like this \"Math & Science, Warmth, Care & Hunger\"\n",
    "    for j in i.split(','): # it will split it in three parts [\"Math & Science\", \"Warmth\", \"Care & Hunger\"]\n",
    "        if 'The' in j.split(): # this will split each of the catogory based on space \"Math & Science\"=> \"Math\",\"&\", \"Science\"\n",
    "            j=j.replace('The','') # if we have the words \"The\" we are going to replace it with ''(i.e removing 'The')\n",
    "        j = j.replace(' ','') # we are placeing all the ' '(space) with ''(empty) ex:\"Math & Science\"=>\"Math&Science\"\n",
    "        temp+=j.strip()+\" \" #\" abc \".strip() will return \"abc\", remove the trailing spaces\n",
    "        temp = temp.replace('&','_') # we are replacing the & value into \n",
    "    cat_list.append(temp.strip())"
   ]
  },
  {
   "cell_type": "code",
   "execution_count": 20,
   "metadata": {},
   "outputs": [
    {
     "data": {
      "text/html": [
       "<div>\n",
       "<style scoped>\n",
       "    .dataframe tbody tr th:only-of-type {\n",
       "        vertical-align: middle;\n",
       "    }\n",
       "\n",
       "    .dataframe tbody tr th {\n",
       "        vertical-align: top;\n",
       "    }\n",
       "\n",
       "    .dataframe thead th {\n",
       "        text-align: right;\n",
       "    }\n",
       "</style>\n",
       "<table border=\"1\" class=\"dataframe\">\n",
       "  <thead>\n",
       "    <tr style=\"text-align: right;\">\n",
       "      <th></th>\n",
       "      <th>Unnamed: 0</th>\n",
       "      <th>id</th>\n",
       "      <th>teacher_id</th>\n",
       "      <th>teacher_prefix</th>\n",
       "      <th>school_state</th>\n",
       "      <th>project_submitted_datetime</th>\n",
       "      <th>project_grade_category</th>\n",
       "      <th>project_subject_subcategories</th>\n",
       "      <th>project_title</th>\n",
       "      <th>project_essay_1</th>\n",
       "      <th>project_essay_2</th>\n",
       "      <th>project_essay_3</th>\n",
       "      <th>project_essay_4</th>\n",
       "      <th>project_resource_summary</th>\n",
       "      <th>teacher_number_of_previously_posted_projects</th>\n",
       "      <th>project_is_approved</th>\n",
       "      <th>clean_catogories</th>\n",
       "    </tr>\n",
       "  </thead>\n",
       "  <tbody>\n",
       "    <tr>\n",
       "      <th>0</th>\n",
       "      <td>160221</td>\n",
       "      <td>p253737</td>\n",
       "      <td>c90749f5d961ff158d4b4d1e7dc665fc</td>\n",
       "      <td>Mrs.</td>\n",
       "      <td>IN</td>\n",
       "      <td>2016-12-05 13:43:57</td>\n",
       "      <td>Grades PreK-2</td>\n",
       "      <td>ESL, Literacy</td>\n",
       "      <td>Educational Support for English Learners at Home</td>\n",
       "      <td>My students are English learners that are work...</td>\n",
       "      <td>\\\"The limits of your language are the limits o...</td>\n",
       "      <td>NaN</td>\n",
       "      <td>NaN</td>\n",
       "      <td>My students need opportunities to practice beg...</td>\n",
       "      <td>0</td>\n",
       "      <td>0</td>\n",
       "      <td>Literacy_Language</td>\n",
       "    </tr>\n",
       "    <tr>\n",
       "      <th>1</th>\n",
       "      <td>140945</td>\n",
       "      <td>p258326</td>\n",
       "      <td>897464ce9ddc600bced1151f324dd63a</td>\n",
       "      <td>Mr.</td>\n",
       "      <td>FL</td>\n",
       "      <td>2016-10-25 09:22:10</td>\n",
       "      <td>Grades 6-8</td>\n",
       "      <td>Civics &amp; Government, Team Sports</td>\n",
       "      <td>Wanted: Projector for Hungry Learners</td>\n",
       "      <td>Our students arrive to our school eager to lea...</td>\n",
       "      <td>The projector we need for our school is very c...</td>\n",
       "      <td>NaN</td>\n",
       "      <td>NaN</td>\n",
       "      <td>My students need a projector to help with view...</td>\n",
       "      <td>7</td>\n",
       "      <td>1</td>\n",
       "      <td>History_Civics Health_Sports</td>\n",
       "    </tr>\n",
       "  </tbody>\n",
       "</table>\n",
       "</div>"
      ],
      "text/plain": [
       "   Unnamed: 0       id                        teacher_id teacher_prefix  \\\n",
       "0      160221  p253737  c90749f5d961ff158d4b4d1e7dc665fc           Mrs.   \n",
       "1      140945  p258326  897464ce9ddc600bced1151f324dd63a            Mr.   \n",
       "\n",
       "  school_state project_submitted_datetime project_grade_category  \\\n",
       "0           IN        2016-12-05 13:43:57          Grades PreK-2   \n",
       "1           FL        2016-10-25 09:22:10             Grades 6-8   \n",
       "\n",
       "      project_subject_subcategories  \\\n",
       "0                     ESL, Literacy   \n",
       "1  Civics & Government, Team Sports   \n",
       "\n",
       "                                      project_title  \\\n",
       "0  Educational Support for English Learners at Home   \n",
       "1             Wanted: Projector for Hungry Learners   \n",
       "\n",
       "                                     project_essay_1  \\\n",
       "0  My students are English learners that are work...   \n",
       "1  Our students arrive to our school eager to lea...   \n",
       "\n",
       "                                     project_essay_2 project_essay_3  \\\n",
       "0  \\\"The limits of your language are the limits o...             NaN   \n",
       "1  The projector we need for our school is very c...             NaN   \n",
       "\n",
       "  project_essay_4                           project_resource_summary  \\\n",
       "0             NaN  My students need opportunities to practice beg...   \n",
       "1             NaN  My students need a projector to help with view...   \n",
       "\n",
       "   teacher_number_of_previously_posted_projects  project_is_approved  \\\n",
       "0                                             0                    0   \n",
       "1                                             7                    1   \n",
       "\n",
       "               clean_catogories  \n",
       "0             Literacy_Language  \n",
       "1  History_Civics Health_Sports  "
      ]
     },
     "execution_count": 20,
     "metadata": {},
     "output_type": "execute_result"
    }
   ],
   "source": [
    "train_df[\"clean_catogories\"] = cat_list\n",
    "#print(train_df[\"clean_catogories\"])\n",
    "train_df.drop(['project_subject_categories'], axis=1, inplace=True)\n",
    "train_df.head(2)"
   ]
  },
  {
   "cell_type": "markdown",
   "metadata": {},
   "source": [
    "#### observation:\n",
    "                    here we remove special character and removing stop words after preprcessing word we store in \n",
    "                    \"clean_catogorie\" column."
   ]
  },
  {
   "cell_type": "code",
   "execution_count": 21,
   "metadata": {},
   "outputs": [
    {
     "name": "stderr",
     "output_type": "stream",
     "text": [
      "C:\\ProgramData\\Anaconda3\\lib\\site-packages\\ipykernel_launcher.py:6: FutureWarning: using a dict on a Series for aggregation\n",
      "is deprecated and will be removed in a future version\n",
      "  \n",
      "C:\\ProgramData\\Anaconda3\\lib\\site-packages\\ipykernel_launcher.py:7: FutureWarning: using a dict on a Series for aggregation\n",
      "is deprecated and will be removed in a future version\n",
      "  import sys\n"
     ]
    },
    {
     "data": {
      "image/png": "[encoded data removed]",
      "text/plain": [
       "<Figure size 1440x360 with 1 Axes>"
      ]
     },
     "metadata": {
      "needs_background": "light"
     },
     "output_type": "display_data"
    },
    {
     "name": "stdout",
     "output_type": "stream",
     "text": [
      "                  clean_catogories  project_is_approved  total       Avg\n",
      "23               Literacy_Language                  900   1067  0.843486\n",
      "30                    Math_Science                  659    795  0.828931\n",
      "26  Literacy_Language Math_Science                  594    679  0.874816\n",
      "8                    Health_Sports                  447    509  0.878193\n",
      "37                      Music_Arts                  199    233  0.854077\n",
      "==================================================\n",
      "                clean_catogories  project_is_approved  total       Avg\n",
      "16                History_Civics                   47     63  0.746032\n",
      "14    Health_Sports SpecialNeeds                   49     57  0.859649\n",
      "46            Warmth Care_Hunger                   47     53  0.886792\n",
      "31  Math_Science AppliedLearning                   44     52  0.846154\n",
      "4   AppliedLearning Math_Science                   35     44  0.795455\n"
     ]
    }
   ],
   "source": [
    "univariate_barplots(train_df,'clean_catogories','project_is_approved',top=20)"
   ]
  },
  {
   "cell_type": "markdown",
   "metadata": {},
   "source": [
    "#### observation :\n",
    "                    after preprocessing data we categrized total no. of project based on clean catogories .\n",
    "                    1) yellow + blue ========> toal project based on clean categories\n",
    "                    2) yellow ======> Approved project based on clean categories\n",
    "                    3) blue =======>rejected project\n"
   ]
  },
  {
   "cell_type": "code",
   "execution_count": 22,
   "metadata": {},
   "outputs": [],
   "source": [
    "### count all the words in subject categories :\n",
    "from collections import Counter\n",
    "my_counter = Counter()\n",
    "for word in train_df[\"clean_catogories\"].values:\n",
    "    my_counter.update(word.split())\n",
    "   # print(my_counter)"
   ]
  },
  {
   "cell_type": "code",
   "execution_count": 23,
   "metadata": {},
   "outputs": [
    {
     "data": {
      "image/png": "[encoded data removed]",
      "text/plain": [
       "<Figure size 1440x360 with 1 Axes>"
      ]
     },
     "metadata": {
      "needs_background": "light"
     },
     "output_type": "display_data"
    }
   ],
   "source": [
    "cat_dict = dict(my_counter)\n",
    "sorted_by_value = dict(sorted(cat_dict.items(), key=lambda kv: kv[1]))\n",
    "ind = np.arange(len(sorted_by_value))\n",
    "plt.figure(figsize=(20,5))\n",
    "p1 = plt.bar(ind, list(sorted_by_value.values()))\n",
    "\n",
    "plt.ylabel('Projects')\n",
    "plt.title('% of projects aproved category wise')\n",
    "plt.xticks(ind, list(sorted_by_value.keys()))\n",
    "plt.show()\n",
    "#sort_by_value"
   ]
  },
  {
   "cell_type": "markdown",
   "metadata": {},
   "source": [
    "#### observation :\n",
    "                       here we count the total words and plot the count of words based on clean category/subject categories.\n",
    "                       it show the counting of the words:-\n",
    "                       1) Literacy_language ===> 2300 words\n",
    "                       2) mat_scince ======> approximate 2000 words\n",
    "                       3) health_sports ====> app. 800 words\n",
    "                       4) specailNeeds =====> 600-700 words\n",
    "                       5) AppleadLearining===>600 words\n",
    "                       6) MusicArts ====> 500 words\n",
    "                       7) histore_civic ====> 300 words\n",
    "                       8) care_hunger =====> 200 appreoximate\n",
    "                       9) warmth =======> 100 app."
   ]
  },
  {
   "cell_type": "code",
   "execution_count": 24,
   "metadata": {},
   "outputs": [
    {
     "name": "stdout",
     "output_type": "stream",
     "text": [
      "Warmth    :        58\n",
      "Care_Hunger:        58\n",
      "History_Civics:       252\n",
      "Music_Arts:       476\n",
      "AppliedLearning:       547\n",
      "SpecialNeeds:       614\n",
      "Health_Sports:       697\n",
      "Math_Science:      1910\n",
      "Literacy_Language:      2400\n"
     ]
    }
   ],
   "source": [
    "for i , j in sorted_by_value.items():\n",
    "    print(\"{:10}:{:10}\".format(i,j))"
   ]
  },
  {
   "cell_type": "markdown",
   "metadata": {},
   "source": [
    "#### Uni variate analysis : project_subject_subcategories"
   ]
  },
  {
   "cell_type": "code",
   "execution_count": 25,
   "metadata": {},
   "outputs": [
    {
     "name": "stdout",
     "output_type": "stream",
     "text": [
      "0                       ESL, Literacy\n",
      "1    Civics & Government, Team Sports\n",
      "2      Health & Wellness, Team Sports\n",
      "3               Literacy, Mathematics\n",
      "4                         Mathematics\n",
      "Name: project_subject_subcategories, dtype: object\n"
     ]
    }
   ],
   "source": [
    "print(train_df['project_subject_subcategories'].head(5))"
   ]
  },
  {
   "cell_type": "code",
   "execution_count": 26,
   "metadata": {},
   "outputs": [],
   "source": [
    "subsubject_category = list(train_df[\"project_subject_subcategories\"].values)\n",
    "#print(subsubject_category)\n",
    "sub_cat_list = []\n",
    "for i in subsubject_category:\n",
    "    temp = \"\"\n",
    "    for j in i.split(','):\n",
    "        # print(j)\n",
    "        if 'The' in j.split():\n",
    "            j = j.replace('The','')\n",
    "        j = j.replace(' ','')\n",
    "        temp = temp + j.strip() + \" \"\n",
    "        temp = temp.replace('&','_')\n",
    "    sub_cat_list.append(temp.strip())\n",
    "    "
   ]
  },
  {
   "cell_type": "code",
   "execution_count": 27,
   "metadata": {},
   "outputs": [
    {
     "name": "stdout",
     "output_type": "stream",
     "text": [
      "0                    ESL Literacy\n",
      "1    Civics_Government TeamSports\n",
      "2      Health_Wellness TeamSports\n",
      "3            Literacy Mathematics\n",
      "4                     Mathematics\n",
      "Name: clean_subcateegory, dtype: object\n",
      "==================================================\n",
      "0                       ESL, Literacy\n",
      "1    Civics & Government, Team Sports\n",
      "2      Health & Wellness, Team Sports\n",
      "3               Literacy, Mathematics\n",
      "4                         Mathematics\n",
      "Name: project_subject_subcategories, dtype: object\n"
     ]
    }
   ],
   "source": [
    "### after cleaning the project_subject_subcategories data ::--\n",
    "train_df[\"clean_subcateegory\"] = sub_cat_list\n",
    "\n",
    "print(train_df[\"clean_subcateegory\"].head(5))\n",
    "print(\"=\"*50)\n",
    "print(train_df[\"project_subject_subcategories\"].head(5))"
   ]
  },
  {
   "cell_type": "code",
   "execution_count": 28,
   "metadata": {},
   "outputs": [
    {
     "name": "stdout",
     "output_type": "stream",
     "text": [
      "   Unnamed: 0       id                        teacher_id teacher_prefix  \\\n",
      "0      160221  p253737  c90749f5d961ff158d4b4d1e7dc665fc           Mrs.   \n",
      "1      140945  p258326  897464ce9ddc600bced1151f324dd63a            Mr.   \n",
      "\n",
      "  school_state project_submitted_datetime project_grade_category  \\\n",
      "0           IN        2016-12-05 13:43:57          Grades PreK-2   \n",
      "1           FL        2016-10-25 09:22:10             Grades 6-8   \n",
      "\n",
      "      project_subject_subcategories  \\\n",
      "0                     ESL, Literacy   \n",
      "1  Civics & Government, Team Sports   \n",
      "\n",
      "                                      project_title  \\\n",
      "0  Educational Support for English Learners at Home   \n",
      "1             Wanted: Projector for Hungry Learners   \n",
      "\n",
      "                                     project_essay_1  \\\n",
      "0  My students are English learners that are work...   \n",
      "1  Our students arrive to our school eager to lea...   \n",
      "\n",
      "                                     project_essay_2 project_essay_3  \\\n",
      "0  \\\"The limits of your language are the limits o...             NaN   \n",
      "1  The projector we need for our school is very c...             NaN   \n",
      "\n",
      "  project_essay_4                           project_resource_summary  \\\n",
      "0             NaN  My students need opportunities to practice beg...   \n",
      "1             NaN  My students need a projector to help with view...   \n",
      "\n",
      "   teacher_number_of_previously_posted_projects  project_is_approved  \\\n",
      "0                                             0                    0   \n",
      "1                                             7                    1   \n",
      "\n",
      "               clean_catogories            clean_subcateegory  \n",
      "0             Literacy_Language                  ESL Literacy  \n",
      "1  History_Civics Health_Sports  Civics_Government TeamSports  \n"
     ]
    }
   ],
   "source": [
    "### drop project_subject_subcategories column \n",
    "train_df.drop([\"project_subject_subcategories\"],axis=1)\n",
    "print(train_df.head(2))"
   ]
  },
  {
   "cell_type": "code",
   "execution_count": 29,
   "metadata": {},
   "outputs": [
    {
     "name": "stderr",
     "output_type": "stream",
     "text": [
      "C:\\ProgramData\\Anaconda3\\lib\\site-packages\\ipykernel_launcher.py:6: FutureWarning: using a dict on a Series for aggregation\n",
      "is deprecated and will be removed in a future version\n",
      "  \n",
      "C:\\ProgramData\\Anaconda3\\lib\\site-packages\\ipykernel_launcher.py:7: FutureWarning: using a dict on a Series for aggregation\n",
      "is deprecated and will be removed in a future version\n",
      "  import sys\n"
     ]
    },
    {
     "data": {
      "image/png": "[encoded data removed]",
      "text/plain": [
       "<Figure size 1440x360 with 1 Axes>"
      ]
     },
     "metadata": {
      "needs_background": "light"
     },
     "output_type": "display_data"
    },
    {
     "name": "stdout",
     "output_type": "stream",
     "text": [
      "                 clean_subcateegory  project_is_approved  total       Avg\n",
      "189                        Literacy                  389    449  0.866370\n",
      "191            Literacy Mathematics                  329    368  0.894022\n",
      "201  Literature_Writing Mathematics                  250    293  0.853242\n",
      "190     Literacy Literature_Writing                  195    234  0.833333\n",
      "209                     Mathematics                  188    232  0.810345\n",
      "==================================================\n",
      "                  clean_subcateegory  project_is_approved  total       Avg\n",
      "207  Literature_Writing SpecialNeeds                   51     60  0.850000\n",
      "143                      Gym_Fitness                   53     58  0.913793\n",
      "244                       TeamSports                   48     56  0.857143\n",
      "111             EnvironmentalScience                   45     53  0.849057\n",
      "247               Warmth Care_Hunger                   47     53  0.886792\n"
     ]
    }
   ],
   "source": [
    "### plotting project_subject_subcategories\n",
    "univariate_barplots(train_df,'clean_subcateegory','project_is_approved',top=20)"
   ]
  },
  {
   "cell_type": "markdown",
   "metadata": {},
   "source": [
    "#### observation:\n",
    "           1)firtly we preprocess data / cleaned that project_subject_subcategories.and clean data stored into\n",
    "                clean_subcateegory column.\n",
    "                2)based on clean_subcategory we categorized the total number of project and how many projects are approved and\n",
    "                how many projects are Not approved.\n",
    "                2)based on clean_subcategory we categorized the total number of project and how many projects are approved and\n",
    "                how many projects are Not approved.\n",
    "                   "
   ]
  },
  {
   "cell_type": "code",
   "execution_count": 30,
   "metadata": {},
   "outputs": [],
   "source": [
    "### counting all the words in project_subject_subcategories\n",
    "from collections import Counter\n",
    "my_counter = Counter()\n",
    "for word in train_df[\"clean_subcateegory\"].values:\n",
    "    my_counter.update(word.split())\n",
    "    "
   ]
  },
  {
   "cell_type": "code",
   "execution_count": 31,
   "metadata": {},
   "outputs": [
    {
     "data": {
      "image/png": "[encoded data removed]",
      "text/plain": [
       "<Figure size 1440x360 with 1 Axes>"
      ]
     },
     "metadata": {
      "needs_background": "light"
     },
     "output_type": "display_data"
    }
   ],
   "source": [
    "sub_cat_dict = dict(my_counter)\n",
    "#print(sub_cat_dict)\n",
    "sorted_by_value = dict(sorted(my_counter.items(), key=lambda kv: kv[1]))\n",
    "#print(sorted_by_value)\n",
    "\n",
    "ind = np.arange(len(sorted_by_value))\n",
    "plt.figure(figsize=(20,5))\n",
    "p1 = plt.bar(ind, list(sorted_by_value.values()))\n",
    "\n",
    "plt.ylabel('Projects')\n",
    "plt.title('% of projects aproved state wise')\n",
    "plt.xticks(ind, list(sorted_by_value.keys()))\n",
    "plt.show()"
   ]
  },
  {
   "cell_type": "markdown",
   "metadata": {},
   "source": [
    "####  Observation : \n",
    "                      we count total number of words and categoriged words and based on sub_categories we ploting\n",
    "                      and how many words are there as below..we can eassily find"
   ]
  },
  {
   "cell_type": "code",
   "execution_count": 32,
   "metadata": {},
   "outputs": [
    {
     "name": "stdout",
     "output_type": "stream",
     "text": [
      "ESL                 :                 182\n",
      "Literacy            :                1534\n",
      "Civics_Government   :                  36\n",
      "TeamSports          :                 123\n",
      "Health_Wellness     :                 486\n",
      "Mathematics         :                1295\n",
      "Literature_Writing  :                1032\n",
      "SpecialNeeds        :                 614\n",
      "ParentInvolvement   :                  34\n",
      "EnvironmentalScience:                 265\n",
      "Health_LifeScience  :                 196\n",
      "AppliedSciences     :                 504\n",
      "EarlyDevelopment    :                 189\n",
      "Music               :                 142\n",
      "ForeignLanguages    :                  29\n",
      "Other               :                 114\n",
      "Economics           :                  14\n",
      "FinancialLiteracy   :                  23\n",
      "Gym_Fitness         :                 237\n",
      "VisualArts          :                 282\n",
      "Warmth              :                  58\n",
      "Care_Hunger         :                  58\n",
      "SocialSciences      :                  82\n",
      "College_CareerPrep  :                 113\n",
      "CharacterEducation  :                  95\n",
      "PerformingArts      :                 102\n",
      "CommunityService    :                  26\n",
      "History_Geography   :                 124\n",
      "NutritionEducation  :                  54\n",
      "Extracurricular     :                  33\n"
     ]
    }
   ],
   "source": [
    "for i,j in sub_cat_dict.items():\n",
    "    print(\"{:20}:{:20}\".format(i,j))"
   ]
  },
  {
   "cell_type": "markdown",
   "metadata": {},
   "source": [
    "####  univariate analysis :    Text feature:"
   ]
  },
  {
   "cell_type": "code",
   "execution_count": 33,
   "metadata": {},
   "outputs": [],
   "source": [
    "#print(train_df[\"project_title\"])"
   ]
  },
  {
   "cell_type": "code",
   "execution_count": 34,
   "metadata": {},
   "outputs": [
    {
     "name": "stderr",
     "output_type": "stream",
     "text": [
      "C:\\ProgramData\\Anaconda3\\lib\\site-packages\\ipykernel_launcher.py:6: FutureWarning: using a dict on a Series for aggregation\n",
      "is deprecated and will be removed in a future version\n",
      "  \n",
      "C:\\ProgramData\\Anaconda3\\lib\\site-packages\\ipykernel_launcher.py:7: FutureWarning: using a dict on a Series for aggregation\n",
      "is deprecated and will be removed in a future version\n",
      "  import sys\n"
     ]
    },
    {
     "data": {
      "image/png": "[encoded data removed]",
      "text/plain": [
       "<Figure size 1440x360 with 1 Axes>"
      ]
     },
     "metadata": {
      "needs_background": "light"
     },
     "output_type": "display_data"
    },
    {
     "name": "stdout",
     "output_type": "stream",
     "text": [
      "                     project_title  project_is_approved  total       Avg\n",
      "1500              Flexible Seating                   12     12  1.000000\n",
      "4549  We Like to Move It, Move It!                    6      7  0.857143\n",
      "4693          Wiggle While We Work                    5      5  1.000000\n",
      "1564             Flexible Seating!                    4      4  1.000000\n",
      "4582  We Need to Move It, Move It!                    3      4  0.750000\n",
      "==================================================\n",
      "             project_title  project_is_approved  total  Avg\n",
      "4427    Tools for Success!                    2      2  1.0\n",
      "4884     iLearn with iPads                    2      2  1.0\n",
      "3957     Streaming Success                    2      2  1.0\n",
      "4049  Supplies for Success                    1      2  0.5\n",
      "687   Can you hear me now?                    2      2  1.0\n"
     ]
    }
   ],
   "source": [
    "### plotting project_subject_subcategories\n",
    "univariate_barplots(train_df,'project_title','project_is_approved',top=20)"
   ]
  },
  {
   "cell_type": "markdown",
   "metadata": {},
   "source": [
    "#### obseravtion:\n",
    "                 project is approved or not we analysis based on project tilte b'coz its important to us which project title is Approved often time and which is rejected ."
   ]
  },
  {
   "cell_type": "code",
   "execution_count": 35,
   "metadata": {},
   "outputs": [],
   "source": [
    "#print(train_df[\"project_title\"].value_counts())"
   ]
  },
  {
   "cell_type": "code",
   "execution_count": 36,
   "metadata": {},
   "outputs": [
    {
     "data": {
      "image/png": "[encoded data removed]",
      "text/plain": [
       "<Figure size 1440x360 with 1 Axes>"
      ]
     },
     "metadata": {
      "needs_background": "light"
     },
     "output_type": "display_data"
    }
   ],
   "source": [
    "count = train_df['project_title'].str.split().apply(len).value_counts()\n",
    "#print(count)\n",
    "word_dict = dict(count)\n",
    "#print(word_dict)\n",
    "word_dict = dict(sorted(word_dict.items(), key=lambda kv: kv[1]))\n",
    "#print(word_dict)\n",
    "ind = np.arange(len(word_dict))\n",
    "plt.figure(figsize=(20,5))\n",
    "p1 = plt.bar(ind, list(word_dict.values()))\n",
    "\n",
    "plt.ylabel('Numeber of projects')\n",
    "plt.xlabel('Numeber words in project title')\n",
    "plt.title('Words for each title of the project')\n",
    "plt.xticks(ind, list(word_dict.keys()))\n",
    "plt.show()"
   ]
  },
  {
   "cell_type": "markdown",
   "metadata": {},
   "source": [
    "#### observation :\n",
    "                   Counting words based on the project titles\n",
    "                   here most of the project titles ====> 4-5 words and some titles are 8-10 words.\n",
    "                   "
   ]
  },
  {
   "cell_type": "code",
   "execution_count": 37,
   "metadata": {},
   "outputs": [],
   "source": [
    "###\n",
    "approved_project_title = train_df[train_df[\"project_is_approved\"]==1][\"project_title\"].str.split().apply(len)\n",
    "#print(approved_project_title)\n",
    "not_approved_project_title = train_df[train_df[\"project_is_approved\"]==0][\"project_title\"].str.split().apply(len)\n",
    "#print(not_approved_project_title)"
   ]
  },
  {
   "cell_type": "code",
   "execution_count": 38,
   "metadata": {},
   "outputs": [
    {
     "data": {
      "image/png": "[encoded data removed]",
      "text/plain": [
       "<Figure size 432x288 with 1 Axes>"
      ]
     },
     "metadata": {
      "needs_background": "light"
     },
     "output_type": "display_data"
    }
   ],
   "source": [
    "### plotting Boxplot \n",
    "plt.boxplot([approved_project_title,not_approved_project_title])\n",
    "plt.xticks([1,2],('Accepted_project','rejected_project'))\n",
    "plt.ylabel(\"word in project title\")\n",
    "plt.grid()\n",
    "plt.show()"
   ]
  },
  {
   "cell_type": "markdown",
   "metadata": {},
   "source": [
    "#### observation : \n",
    "            Box plot shows the Number of Accepted project titles and Number of rejected projected titles\n",
    "            in this plot Both (Approved and rejected project) mean are almost similar but 25percentile and 75 percentile\n",
    "                   are different "
   ]
  },
  {
   "cell_type": "code",
   "execution_count": 39,
   "metadata": {},
   "outputs": [
    {
     "data": {
      "image/png": "[encoded data removed]",
      "text/plain": [
       "<Figure size 720x216 with 1 Axes>"
      ]
     },
     "metadata": {
      "needs_background": "light"
     },
     "output_type": "display_data"
    }
   ],
   "source": [
    "import seaborn as sns\n",
    "plt.figure(figsize=(10,3))\n",
    "sns.kdeplot(approved_project_title, bw=.8, label=\"Approved project\")\n",
    "sns.kdeplot(not_approved_project_title, bw=.8, label=\" rejected project \")\n",
    "plt.legend()\n",
    "plt.show()"
   ]
  },
  {
   "cell_type": "markdown",
   "metadata": {},
   "source": [
    "#### observation :\n",
    "         This plot shows here Approved and rejected projected\n",
    "         1) blue curve shows here ===> Approved project\n",
    "         2) yellow curve shows here ===> rejected projected\n",
    "         "
   ]
  },
  {
   "cell_type": "markdown",
   "metadata": {},
   "source": [
    "### univariate analysis :    Text feature(project_essay_1)"
   ]
  },
  {
   "cell_type": "code",
   "execution_count": 40,
   "metadata": {},
   "outputs": [],
   "source": [
    "#univariate_barplots(train_df,'project_essay_1','project_is_approved',top=20)"
   ]
  },
  {
   "cell_type": "code",
   "execution_count": 41,
   "metadata": {},
   "outputs": [],
   "source": [
    "train_df[\"Eassy\"] = train_df[\"project_essay_1\"].map(str) +\\\n",
    "train_df[\"project_essay_2\"].map(str) +\\\n",
    "train_df[\"project_essay_3\"].map(str) +\\\n",
    "train_df[\"project_essay_4\"].map(str)\n",
    "\n",
    "approved_project_title = train_df[train_df[\"project_is_approved\"]==1][\"project_title\"].str.split().apply(len)\n",
    "#print(train_df[\"Eassy\"].value_counts())"
   ]
  },
  {
   "cell_type": "code",
   "execution_count": 42,
   "metadata": {},
   "outputs": [],
   "source": [
    "#approved_project_title = train_df[train_df[\"project_is_approved\"]==1][\"project_title\"].str.split().apply(len)\n",
    "\n",
    "approved_word_project = train_df[train_df[\"project_is_approved\"]==1][\"Eassy\"].str.split().apply(len)\n",
    "#print(approved_word_project.values)\n",
    "not_approved_word_count = train_df[train_df[\"project_is_approved\"]==0][\"Eassy\"].str.split().apply(len)\n",
    "#print(not_approved_word_count)"
   ]
  },
  {
   "cell_type": "code",
   "execution_count": 43,
   "metadata": {},
   "outputs": [
    {
     "data": {
      "image/png": "[encoded data removed]",
      "text/plain": [
       "<Figure size 432x288 with 1 Axes>"
      ]
     },
     "metadata": {
      "needs_background": "light"
     },
     "output_type": "display_data"
    }
   ],
   "source": [
    "plt.boxplot([approved_word_project,not_approved_word_count])\n",
    "plt.xticks([1,2],('Accepted_project','rejected_project'))\n",
    "plt.ylabel(\"word in project Eassy\")\n",
    "plt.grid()\n",
    "plt.show()"
   ]
  },
  {
   "cell_type": "markdown",
   "metadata": {},
   "source": [
    "#### observations :\n",
    "                Firstly we mapped all Eassy after that based on total Eassy_1,Eassy_2,Eassy_3,Eassy_4.\n",
    "                and we compare throgh boxplot.\n",
    "                "
   ]
  },
  {
   "cell_type": "code",
   "execution_count": 44,
   "metadata": {},
   "outputs": [
    {
     "name": "stdout",
     "output_type": "stream",
     "text": [
      "Index(['Unnamed: 0', 'id', 'teacher_id', 'teacher_prefix', 'school_state',\n",
      "       'project_submitted_datetime', 'project_grade_category',\n",
      "       'project_subject_subcategories', 'project_title', 'project_essay_1',\n",
      "       'project_essay_2', 'project_essay_3', 'project_essay_4',\n",
      "       'project_resource_summary',\n",
      "       'teacher_number_of_previously_posted_projects', 'project_is_approved',\n",
      "       'clean_catogories', 'clean_subcateegory', 'Eassy'],\n",
      "      dtype='object')\n"
     ]
    }
   ],
   "source": [
    "print(train_df.columns)"
   ]
  },
  {
   "cell_type": "code",
   "execution_count": 45,
   "metadata": {},
   "outputs": [
    {
     "name": "stderr",
     "output_type": "stream",
     "text": [
      "C:\\ProgramData\\Anaconda3\\lib\\site-packages\\ipykernel_launcher.py:6: FutureWarning: using a dict on a Series for aggregation\n",
      "is deprecated and will be removed in a future version\n",
      "  \n",
      "C:\\ProgramData\\Anaconda3\\lib\\site-packages\\ipykernel_launcher.py:7: FutureWarning: using a dict on a Series for aggregation\n",
      "is deprecated and will be removed in a future version\n",
      "  import sys\n"
     ]
    },
    {
     "data": {
      "image/png": "[encoded data removed]",
      "text/plain": [
       "<Figure size 1440x360 with 1 Axes>"
      ]
     },
     "metadata": {
      "needs_background": "light"
     },
     "output_type": "display_data"
    },
    {
     "name": "stdout",
     "output_type": "stream",
     "text": [
      "                               project_resource_summary  project_is_approved  \\\n",
      "450   My students need Chromebooks to do all the thi...                    2   \n",
      "2395  My students need chromebooks to do all the thi...                    2   \n",
      "3506  My students need more options for flexible sea...                    2   \n",
      "2975  My students need hands-on opportunities to exp...                    2   \n",
      "1028  My students need a class set of cushions, head...                    2   \n",
      "\n",
      "      total  Avg  \n",
      "450       2    1  \n",
      "2395      2    1  \n",
      "3506      2    1  \n",
      "2975      2    1  \n",
      "1028      2    1  \n",
      "==================================================\n",
      "                               project_resource_summary  project_is_approved  \\\n",
      "3325  My students need makeup effects, hazmat suits,...                    0   \n",
      "3324  My students need magnetic letters, magnetic wh...                    1   \n",
      "3323  My students need magnetic letters to use in sm...                    1   \n",
      "3322  My students need magnetic dry erase boards to ...                    1   \n",
      "3321  My students need magnetic boards and erasers f...                    1   \n",
      "\n",
      "      total  Avg  \n",
      "3325      1    0  \n",
      "3324      1    1  \n",
      "3323      1    1  \n",
      "3322      1    1  \n",
      "3321      1    1  \n"
     ]
    }
   ],
   "source": [
    "#print(train_df[\"project_resource_summary\"])\n",
    "univariate_barplots(train_df,'project_resource_summary','project_is_approved',top=20)"
   ]
  },
  {
   "cell_type": "markdown",
   "metadata": {},
   "source": [
    "#### observation :\n",
    "                we categorized the projects based on the project_resource_summary."
   ]
  },
  {
   "cell_type": "code",
   "execution_count": 46,
   "metadata": {},
   "outputs": [],
   "source": [
    "#univariate_barplots(train_df,'project_resource_summary','project_is_approved',top=20)"
   ]
  },
  {
   "cell_type": "markdown",
   "metadata": {},
   "source": [
    "\n"
   ]
  },
  {
   "cell_type": "code",
   "execution_count": 47,
   "metadata": {},
   "outputs": [
    {
     "name": "stdout",
     "output_type": "stream",
     "text": [
      "        id                                        description  quantity  \\\n",
      "0  p233245  LC652 - Lakeshore Double-Space Mobile Drying Rack         1   \n",
      "1  p069063        Bouncy Bands for Desks (Blue support pipes)         3   \n",
      "2  p069063  Cory Stories: A Kid's Book About Living With Adhd         1   \n",
      "3  p069063  Dixon Ticonderoga Wood-Cased #2 HB Pencils, Bo...         2   \n",
      "4  p069063  EDUCATIONAL INSIGHTS FLUORESCENT LIGHT FILTERS...         3   \n",
      "\n",
      "    price  \n",
      "0  149.00  \n",
      "1   14.95  \n",
      "2    8.45  \n",
      "3   13.59  \n",
      "4   24.95  \n",
      "==================================================\n",
      "Index(['id', 'description', 'quantity', 'price'], dtype='object')\n"
     ]
    }
   ],
   "source": [
    "resource_data = pd.read_csv(\"resources.csv\")\n",
    "print(resource_data.head(5))\n",
    "print(\"=\"*50)\n",
    "print(resource_data.columns)"
   ]
  },
  {
   "cell_type": "code",
   "execution_count": 48,
   "metadata": {},
   "outputs": [
    {
     "name": "stdout",
     "output_type": "stream",
     "text": [
      "        id   price  quantity\n",
      "0  p000001  459.56         7\n",
      "1  p000002  515.89        21\n"
     ]
    }
   ],
   "source": [
    "price_data = resource_data.groupby('id').agg({'price':'sum', 'quantity':'sum'}).reset_index()\n",
    "print(price_data.head(2))"
   ]
  },
  {
   "cell_type": "code",
   "execution_count": 49,
   "metadata": {},
   "outputs": [
    {
     "name": "stdout",
     "output_type": "stream",
     "text": [
      "Index(['Unnamed: 0', 'id', 'teacher_id', 'teacher_prefix', 'school_state',\n",
      "       'project_submitted_datetime', 'project_grade_category',\n",
      "       'project_subject_subcategories', 'project_title', 'project_essay_1',\n",
      "       'project_essay_2', 'project_essay_3', 'project_essay_4',\n",
      "       'project_resource_summary',\n",
      "       'teacher_number_of_previously_posted_projects', 'project_is_approved',\n",
      "       'clean_catogories', 'clean_subcateegory', 'Eassy', 'price', 'quantity'],\n",
      "      dtype='object')\n",
      "==================================================\n",
      "   Unnamed: 0       id                        teacher_id teacher_prefix  \\\n",
      "0      160221  p253737  c90749f5d961ff158d4b4d1e7dc665fc           Mrs.   \n",
      "1      140945  p258326  897464ce9ddc600bced1151f324dd63a            Mr.   \n",
      "2       21895  p182444  3465aaf82da834c0582ebd0ef8040ca0            Ms.   \n",
      "3          45  p246581  f3cb9bffbba169bef1a77b243e620b60           Mrs.   \n",
      "4      172407  p104768  be1f7507a41f8479dc06f047086a39ec           Mrs.   \n",
      "\n",
      "  school_state project_submitted_datetime project_grade_category  \\\n",
      "0           IN        2016-12-05 13:43:57          Grades PreK-2   \n",
      "1           FL        2016-10-25 09:22:10             Grades 6-8   \n",
      "2           AZ        2016-08-31 12:03:56             Grades 6-8   \n",
      "3           KY        2016-10-06 21:16:17          Grades PreK-2   \n",
      "4           TX        2016-07-11 01:10:09          Grades PreK-2   \n",
      "\n",
      "      project_subject_subcategories  \\\n",
      "0                     ESL, Literacy   \n",
      "1  Civics & Government, Team Sports   \n",
      "2    Health & Wellness, Team Sports   \n",
      "3             Literacy, Mathematics   \n",
      "4                       Mathematics   \n",
      "\n",
      "                                       project_title  \\\n",
      "0   Educational Support for English Learners at Home   \n",
      "1              Wanted: Projector for Hungry Learners   \n",
      "2  Soccer Equipment for AWESOME Middle School Stu...   \n",
      "3                             Techie Kindergarteners   \n",
      "4                             Interactive Math Tools   \n",
      "\n",
      "                                     project_essay_1    ...     \\\n",
      "0  My students are English learners that are work...    ...      \n",
      "1  Our students arrive to our school eager to lea...    ...      \n",
      "2  \\r\\n\\\"True champions aren't always the ones th...    ...      \n",
      "3  I work at a unique school filled with both ESL...    ...      \n",
      "4  Our second grade classroom next year will be m...    ...      \n",
      "\n",
      "  project_essay_3 project_essay_4  \\\n",
      "0             NaN             NaN   \n",
      "1             NaN             NaN   \n",
      "2             NaN             NaN   \n",
      "3             NaN             NaN   \n",
      "4             NaN             NaN   \n",
      "\n",
      "                            project_resource_summary  \\\n",
      "0  My students need opportunities to practice beg...   \n",
      "1  My students need a projector to help with view...   \n",
      "2  My students need shine guards, athletic socks,...   \n",
      "3  My students need to engage in Reading and Math...   \n",
      "4  My students need hands on practice in mathemat...   \n",
      "\n",
      "  teacher_number_of_previously_posted_projects  project_is_approved  \\\n",
      "0                                            0                    0   \n",
      "1                                            7                    1   \n",
      "2                                            1                    0   \n",
      "3                                            4                    1   \n",
      "4                                            1                    1   \n",
      "\n",
      "                 clean_catogories            clean_subcateegory  \\\n",
      "0               Literacy_Language                  ESL Literacy   \n",
      "1    History_Civics Health_Sports  Civics_Government TeamSports   \n",
      "2                   Health_Sports    Health_Wellness TeamSports   \n",
      "3  Literacy_Language Math_Science          Literacy Mathematics   \n",
      "4                    Math_Science                   Mathematics   \n",
      "\n",
      "                                               Eassy   price  quantity  \n",
      "0  My students are English learners that are work...  154.60        23  \n",
      "1  Our students arrive to our school eager to lea...  299.00         1  \n",
      "2  \\r\\n\\\"True champions aren't always the ones th...  516.85        22  \n",
      "3  I work at a unique school filled with both ESL...  232.90         4  \n",
      "4  Our second grade classroom next year will be m...   67.98         4  \n",
      "\n",
      "[5 rows x 21 columns]\n"
     ]
    }
   ],
   "source": [
    "### merge two dataframe \n",
    "a = pd.merge(train_df,price_data,how=\"left\")\n",
    "print(a.columns)\n",
    "print(\"=\"*50)\n",
    "print(a.head(5))"
   ]
  },
  {
   "cell_type": "code",
   "execution_count": 50,
   "metadata": {},
   "outputs": [
    {
     "name": "stdout",
     "output_type": "stream",
     "text": [
      "approved_price :  [299.   232.9   67.98 ... 201.07 170.57  39.97]\n",
      "==================================================\n",
      "rejected_price :  [ 154.6   516.85  219.46   91.94  278.09  268.99  129.98  589.    397.9\n",
      "  189.03  224.09  433.76  260.02  142.84  147.32 4102.47  428.07  347.54\n",
      "  353.65  789.92 1414.94  849.02   75.01  269.63  401.96   41.64  443.63\n",
      "  188.83  232.18  270.94  149.48  442.39  299.33  379.94  178.73  329.95\n",
      "  404.87  282.54  957.85   20.31   33.98  177.74  188.03  189.    466.86\n",
      "   32.48  335.97   33.95  393.27   19.11  173.2   938.96  518.98  292.97\n",
      "  685.97  180.32  448.95  250.42  169.99  560.92   74.83  135.58  154.34\n",
      "  292.9   809.97  328.95 1292.17  180.46  338.99  175.42  685.62  767.99\n",
      "  617.99   59.79  409.64  125.33  468.98  144.62  635.92  596.53  938.07\n",
      "  323.93  410.43  193.24  607.69   40.59  131.18  415.85   27.11  308.81\n",
      "  470.34  221.89  125.72  321.82  103.14  159.    289.04   84.96  140.07\n",
      "  415.31  406.2   149.92  639.88  383.93 1868.35  282.58 1711.03   71.99\n",
      "   81.49  293.23   88.11  170.89   39.98  538.26  209.94  312.49  772.15\n",
      "  119.97  202.51  822.67  298.95 1874.94  149.99  742.63  167.82  655.13\n",
      "  349.94  122.6   155.46  149.08 1020.24  444.28   11.58   23.8   149.94\n",
      "  432.49  210.96  306.74  708.34  298.97  337.23  254.64   86.8  1448.29\n",
      "    9.93    7.16   62.95  243.91  708.48   84.29  388.89   72.47  156.54\n",
      "  313.69  225.94  259.87  152.1    13.98  363.87  274.43  629.49  304.7\n",
      "   34.93  320.78 1799.99 1634.49  549.48  410.86  153.94   50.39  368.57\n",
      "  222.91  187.09  137.27  468.94   59.49  471.46  469.99  175.9   967.45\n",
      "  269.95  651.77  314.84  198.61  372.8    97.99  709.96  427.06  298.99\n",
      "  482.62  127.26  378.01  716.55 1028.92  390.14   17.3   313.95  314.29\n",
      "   44.98  152.79  229.47  126.66   17.95   96.8   269.99 1245.11   34.31\n",
      "  451.41  183.13  109.99  354.7   172.56  179.    172.55  365.82  261.92\n",
      "  159.84  183.93  284.4   214.67  324.53  360.59  100.62  380.72  278.7\n",
      "   84.78  126.28  179.99  303.3   175.25 1002.97  452.91   73.31  617.91\n",
      "  335.89  177.74  251.39  424.91  278.28  118.67  229.99  311.     89.82\n",
      "  253.39  633.72  235.42  138.93   75.63  139.97  451.7   416.44  560.22\n",
      "  451.17  277.02  267.9   168.72  241.57  113.11  190.2   125.94  431.79\n",
      " 1103.47  291.94  314.77  122.26  161.45  370.94  392.25  269.99  380.81\n",
      "   80.86  130.79  703.34  116.84  359.89   86.35  209.96  317.82  232.06\n",
      "   69.73 1299.99   76.26  254.47  176.25  199.99  213.45  591.88  183.13\n",
      "  776.68  505.85  423.44  143.79  248.96    6.95  224.99   60.73  678.43\n",
      "   66.48  274.94  405.69  218.42  152.53  124.68  402.9   426.91  113.99\n",
      "  386.97   39.99  591.11  141.17  110.83  127.81   94.19 1677.99  268.2\n",
      "  250.84  479.4    83.75   40.03  207.71  329.93 1260.09  468.65   21.94\n",
      "  236.94  898.12  699.     81.86  101.18  291.4   749.    296.97  179.95\n",
      "  648.    164.49  182.97  140.95  233.46  152.24  182.98  469.25  679.28\n",
      "  109.07  185.8   376.88  392.15  234.28  151.94  370.26  377.26   80.41\n",
      "  139.7   375.18  299.    760.1    29.98   40.18  918.86   62.97  135.47\n",
      "   54.34  924.44  168.47  173.24 1321.28  151.46   92.96  138.16  427.42\n",
      "  125.94  173.42  288.88  206.6   144.31  149.99  278.88  126.3   429.92\n",
      "  305.9    89.42  322.59 1615.23  125.85  436.17   56.92  679.43   17.59\n",
      "  415.98  188.99  150.58 1498.29  234.15   71.3   580.28  484.92  152.14\n",
      "  246.    256.39  517.47  299.69  287.46 1165.69   76.51  901.64 1279.87\n",
      "  157.25  217.99  190.35  297.95  194.25  242.24  110.97 1061.28  401.43\n",
      "    6.99  131.25   21.2   320.96   46.37  268.99  103.95    6.99  222.44\n",
      "  657.97  262.17  688.13  399.99  544.9   687.7  1335.47  118.82  126.19\n",
      "  149.98  382.17  292.92  355.3   200.8   398.99   75.49  141.73  371.07\n",
      "   69.4   853.07  706.    225.15  251.93    5.19    8.99  192.36  252.15\n",
      "  414.86  194.99  388.9   404.93  742.09  114.01  209.67  173.     44.3\n",
      "  144.93 1423.92  179.71  377.06  220.43  569.82  499.51  245.86  269.58\n",
      "  158.32  461.78  242.99  438.69  198.96  228.41  397.03  235.59  353.53\n",
      "  439.63  301.7    65.98  226.1   241.61  121.59  216.05 1373.43  178.09\n",
      "  566.35  100.97  260.57  469.92   42.94  255.54  802.38 2019.75  157.91\n",
      "  178.99  266.4    28.99  503.22  402.76  102.75  748.86  386.95  369.39\n",
      "  433.79   78.17  362.96    7.19   17.41   46.95  597.52   90.47   98.86\n",
      "  394.18  148.39  221.07 1006.36  248.81  135.48  307.39  291.2   121.77\n",
      "  354.47  236.98  158.63  402.15  277.42  380.49  266.95  546.32  546.75\n",
      "  750.42  232.29   91.72  248.11   55.57  149.76  144.7   466.81 1435.16\n",
      "  579.98  589.83   50.59  507.28  174.11  108.38  465.24  132.36  515.16\n",
      "  260.79  156.65  324.53   49.99  171.21  180.13   54.98  302.64  302.67\n",
      " 1002.84  125.94  191.99  793.41  114.86   30.78 1691.17 1001.27  151.98\n",
      "   35.04   39.52  149.99  147.2  1009.07  196.87  249.91  258.07  327.85\n",
      "   99.5    22.43    9.45 1224.11  263.46  348.    344.27  400.47  851.31\n",
      "  146.4   559.98  137.74  323.37  144.71  121.2   271.64  179.99  191.98\n",
      "   50.16  213.67  391.6   398.9   641.87  484.66  248.77  235.9    28.98\n",
      "  325.49  157.97  336.37  778.92  113.89  392.99  196.98  160.1    83.68\n",
      "  138.88  381.32  130.57  168.5   123.72  356.95  398.4  1395.08  175.37\n",
      "  407.99  159.     36.81  212.71  179.84  439.97  413.76  106.36  169.04\n",
      "   36.27  230.79  544.87  206.89   44.09  392.86 1207.93 1635.81  251.63\n",
      "  299.9   605.91  270.01  817.     60.97  297.42  142.51  558.97  179.99\n",
      "  671.74  852.89   29.04  624.86  318.45 1291.7   424.98  373.03  218.36\n",
      "  777.48  314.27  737.96  157.    147.    550.85  602.49  393.96  404.58\n",
      "  213.64  618.8   286.93  791.47  198.72  135.32  428.5   179.29  344.76\n",
      "   74.41  104.72  257.93   91.45  458.    118.01  124.11  247.73  648.54\n",
      "  494.09  240.96  382.65  435.13   82.81  428.32  141.95   99.87  248.5\n",
      "  174.7   672.78   72.4   200.79  365.    202.32  311.71  298.65  459.38\n",
      "  393.69  279.99  790.92  226.47  424.91  505.46 1566.67  662.77  690.72\n",
      "  517.27  116.41  228.99  168.44  104.98  224.48 1014.3   460.55   45.24\n",
      "  350.95  129.97  537.72  335.71   45.05  702.46  312.52  130.96  633.62\n",
      "  315.37  356.97  446.43  110.37  639.98  287.21 1649.99   87.44  340.81\n",
      "  429.98  326.21 1003.57  184.98 1170.73  349.93  236.13  299.97  115.\n",
      "  241.81  549.02  219.47 3629.65  199.    628.93  210.58  129.    180.7\n",
      "  213.07  138.02  562.02  217.32   46.95  657.15  115.29]\n"
     ]
    }
   ],
   "source": [
    "approved_price = a[a[\"project_is_approved\"]==1]['price'].values\n",
    "print(\"approved_price : \",approved_price)\n",
    "print(\"=\"*50)\n",
    "rejected_price = a[a[\"project_is_approved\"]==0]['price'].values\n",
    "print(\"rejected_price : \",rejected_price)\n"
   ]
  },
  {
   "cell_type": "code",
   "execution_count": 51,
   "metadata": {},
   "outputs": [
    {
     "data": {
      "image/png": "[encoded data removed]",
      "text/plain": [
       "<Figure size 432x288 with 1 Axes>"
      ]
     },
     "metadata": {
      "needs_background": "light"
     },
     "output_type": "display_data"
    }
   ],
   "source": [
    "## plotting Box plot\n",
    "plt.boxplot([approved_price,rejected_price])\n",
    "plt.title('Box Plots of Cost per approved and not approved Projects')\n",
    "plt.xticks([1,2],('Approved Projects','Rejected Projects'))\n",
    "plt.ylabel('Price')\n",
    "plt.grid()\n",
    "plt.show()"
   ]
  },
  {
   "cell_type": "markdown",
   "metadata": {},
   "source": [
    "#### observation:\n",
    "                 we categorized Approved project and rejected project based on Cost."
   ]
  },
  {
   "cell_type": "code",
   "execution_count": 52,
   "metadata": {},
   "outputs": [
    {
     "name": "stderr",
     "output_type": "stream",
     "text": [
      "C:\\ProgramData\\Anaconda3\\lib\\site-packages\\scipy\\stats\\stats.py:1713: FutureWarning: Using a non-tuple sequence for multidimensional indexing is deprecated; use `arr[tuple(seq)]` instead of `arr[seq]`. In the future this will be interpreted as an array index, `arr[np.array(seq)]`, which will result either in an error or a different result.\n",
      "  return np.add.reduce(sorted[indexer] * weights, axis=axis) / sumval\n"
     ]
    },
    {
     "data": {
      "image/png": "[encoded data removed]",
      "text/plain": [
       "<Figure size 720x216 with 1 Axes>"
      ]
     },
     "metadata": {
      "needs_background": "light"
     },
     "output_type": "display_data"
    }
   ],
   "source": [
    "plt.figure(figsize=(10,3))\n",
    "sns.distplot(approved_price, hist=False, label=\"Approved Projects\")\n",
    "sns.distplot(rejected_price, hist=False, label=\"Not Approved Projects\")\n",
    "plt.title('Cost per approved and not approved Projects')\n",
    "plt.xlabel('Cost of a project')\n",
    "plt.legend()\n",
    "plt.show()"
   ]
  },
  {
   "cell_type": "markdown",
   "metadata": {},
   "source": [
    "### observation : \n",
    "                   we categorized number of approved and not approved project based on cost price."
   ]
  },
  {
   "cell_type": "code",
   "execution_count": 53,
   "metadata": {},
   "outputs": [
    {
     "name": "stdout",
     "output_type": "stream",
     "text": [
      "+-------------+-------------------+-----------------------+\n",
      "| Percentile  | Approved Projects | Not Approved Projects |\n",
      "+-------------+-------------------+-----------------------+\n",
      "|      0      |        1.44       |          5.19         |\n",
      "|      5      |       14.664      |         40.045        |\n",
      "|      10     |       35.41       |         75.106        |\n",
      "|      15     |       56.788      |        104.181        |\n",
      "|      20     |       75.848      |        126.288        |\n",
      "|      25     |       100.21      |        145.665        |\n",
      "|      30     |      119.948      |        159.996        |\n",
      "|      35     |       139.99      |        180.088        |\n",
      "|      40     |       159.43      |        207.546        |\n",
      "|      45     |       179.0       |        232.279        |\n",
      "|      50     |       200.77      |         258.07        |\n",
      "|      55     |      229.636      |        289.256        |\n",
      "|      60     |      259.744      |        314.946        |\n",
      "|      65     |      288.936      |        357.846        |\n",
      "|      70     |      326.598      |        393.798        |\n",
      "|      75     |       376.51      |         428.41        |\n",
      "|      80     |      423.724      |        483.844        |\n",
      "|      85     |      495.786      |        604.884        |\n",
      "|      90     |       602.35      |        715.232        |\n",
      "|      95     |      820.454      |        1008.799       |\n",
      "|     100     |       9999.0      |        4102.47        |\n",
      "+-------------+-------------------+-----------------------+\n"
     ]
    }
   ],
   "source": [
    "from prettytable import PrettyTable\n",
    "x = PrettyTable()\n",
    "\n",
    "x.field_names = [\"Percentile \",\"Approved Projects\", \"Not Approved Projects\"]\n",
    "for i in range(0,105,5):\n",
    "    x.add_row([i,np.round(np.percentile(approved_price,i),3),np.round(np.percentile(rejected_price,i),3)])\n",
    "print(x)"
   ]
  },
  {
   "cell_type": "markdown",
   "metadata": {},
   "source": [
    "### observation :\n",
    "              we calculate number of percentile which is Approved project and which is Not Approved project"
   ]
  },
  {
   "cell_type": "markdown",
   "metadata": {},
   "source": [
    "####  uni variate analysis : teacher_number_of_previously_posted_projects ::--"
   ]
  },
  {
   "cell_type": "code",
   "execution_count": 54,
   "metadata": {},
   "outputs": [],
   "source": [
    "#print(train_df[\"teacher_number_of_previously_posted_projects\"])"
   ]
  },
  {
   "cell_type": "code",
   "execution_count": 55,
   "metadata": {},
   "outputs": [
    {
     "name": "stderr",
     "output_type": "stream",
     "text": [
      "C:\\ProgramData\\Anaconda3\\lib\\site-packages\\ipykernel_launcher.py:6: FutureWarning: using a dict on a Series for aggregation\n",
      "is deprecated and will be removed in a future version\n",
      "  \n",
      "C:\\ProgramData\\Anaconda3\\lib\\site-packages\\ipykernel_launcher.py:7: FutureWarning: using a dict on a Series for aggregation\n",
      "is deprecated and will be removed in a future version\n",
      "  import sys\n"
     ]
    },
    {
     "data": {
      "image/png": "[encoded data removed]",
      "text/plain": [
       "<Figure size 1440x360 with 1 Axes>"
      ]
     },
     "metadata": {
      "needs_background": "light"
     },
     "output_type": "display_data"
    },
    {
     "name": "stdout",
     "output_type": "stream",
     "text": [
      "                            teacher_id  \\\n",
      "2393  8392e92eda43003e742c98680ce68ce5   \n",
      "588   1f64dcec848be8e95c4482cc845706b2   \n",
      "1393  4ba7c721133ef651ca54a03551746708   \n",
      "1260  4416745560343f14a74dedcda4ec03b0   \n",
      "487   19f24640d9da49f6f8b4c9938c049591   \n",
      "\n",
      "      teacher_number_of_previously_posted_projects  total     Avg  \n",
      "2393                                             0      4   32.00  \n",
      "588                                              0      4  266.50  \n",
      "1393                                             0      4   26.25  \n",
      "1260                                             0      4   83.50  \n",
      "487                                              0      4  173.00  \n",
      "==================================================\n",
      "                            teacher_id  \\\n",
      "4229  e330ccb2aeeb51f5ede75a1567b04ece   \n",
      "1896  66c30e1da1934d7cfe810ba79f6e04c1   \n",
      "1150  3edf1305f38913e71fb824ddd87ca19c   \n",
      "764   28c79193c9c864f25add867dd4428673   \n",
      "2307  7f3d2d332637fc7a8e4a82f4d2fbfe1a   \n",
      "\n",
      "      teacher_number_of_previously_posted_projects  total    Avg  \n",
      "4229                                             0      2    7.0  \n",
      "1896                                             0      2  111.0  \n",
      "1150                                             0      2   11.5  \n",
      "764                                              0      2   98.5  \n",
      "2307                                             0      2    8.0  \n"
     ]
    }
   ],
   "source": [
    "univariate_barplots(train_df,'teacher_id','teacher_number_of_previously_posted_projects',top=50)"
   ]
  },
  {
   "cell_type": "code",
   "execution_count": 56,
   "metadata": {},
   "outputs": [
    {
     "name": "stdout",
     "output_type": "stream",
     "text": [
      "Index(['Unnamed: 0', 'id', 'teacher_id', 'teacher_prefix', 'school_state',\n",
      "       'project_submitted_datetime', 'project_grade_category',\n",
      "       'project_subject_subcategories', 'project_title', 'project_essay_1',\n",
      "       'project_essay_2', 'project_essay_3', 'project_essay_4',\n",
      "       'project_resource_summary',\n",
      "       'teacher_number_of_previously_posted_projects', 'project_is_approved',\n",
      "       'clean_catogories', 'clean_subcateegory', 'Eassy'],\n",
      "      dtype='object')\n"
     ]
    }
   ],
   "source": [
    "print(train_df.columns)"
   ]
  },
  {
   "cell_type": "code",
   "execution_count": 57,
   "metadata": {},
   "outputs": [],
   "source": [
    "A=train_df.loc[:, ['teacher_id', 'teacher_number_of_previously_posted_projects']].head(20)\n",
    "#print(A.columns)"
   ]
  },
  {
   "cell_type": "markdown",
   "metadata": {},
   "source": [
    "### observation:\n",
    "                   we plot here top 50 datapoint we ploting here based on teacher id how many projects are submitted (teacher_number_of_previously_posted_projects)"
   ]
  },
  {
   "cell_type": "code",
   "execution_count": 58,
   "metadata": {},
   "outputs": [
    {
     "data": {
      "image/png": "[encoded data removed]",
      "text/plain": [
       "<Figure size 432x288 with 1 Axes>"
      ]
     },
     "metadata": {
      "needs_background": "light"
     },
     "output_type": "display_data"
    }
   ],
   "source": [
    "### through scatter plot \n",
    "import seaborn as sns\n",
    "#sns.set(style=\"whitegrid\")\n",
    "x = \"teacher_id\"\n",
    "y = \"teacher_number_of_previously_posted_projects\"\n",
    "\n",
    "sns.barplot(x,y,data=A)\n",
    "plt.show()"
   ]
  },
  {
   "cell_type": "code",
   "execution_count": 59,
   "metadata": {},
   "outputs": [
    {
     "name": "stdout",
     "output_type": "stream",
     "text": [
      "0      0\n",
      "1      7\n",
      "2      1\n",
      "3      4\n",
      "4      1\n",
      "5      1\n",
      "6      1\n",
      "7      7\n",
      "8     28\n",
      "9     36\n",
      "10    37\n",
      "11    32\n",
      "12     5\n",
      "13    30\n",
      "14    15\n",
      "15     3\n",
      "16     1\n",
      "17     0\n",
      "18     0\n",
      "19     9\n",
      "Name: teacher_number_of_previously_posted_projects, dtype: int64\n"
     ]
    }
   ],
   "source": [
    "print(train_df[\"teacher_number_of_previously_posted_projects\"].head(20))"
   ]
  },
  {
   "cell_type": "markdown",
   "metadata": {},
   "source": [
    "#### observation:\n",
    "                  Through seaborn we are plotting Top 20 datapoints to display here based on project_id it shows how much project previously submitted(teacher_number_of_previously_posted_projects)"
   ]
  },
  {
   "cell_type": "markdown",
   "metadata": {},
   "source": [
    " "
   ]
  },
  {
   "cell_type": "markdown",
   "metadata": {},
   "source": [
    "####  univaraite analysis :: -  project_resource_summary"
   ]
  },
  {
   "cell_type": "code",
   "execution_count": 60,
   "metadata": {},
   "outputs": [
    {
     "name": "stdout",
     "output_type": "stream",
     "text": [
      "Index(['Unnamed: 0', 'id', 'teacher_id', 'teacher_prefix', 'school_state',\n",
      "       'project_submitted_datetime', 'project_grade_category',\n",
      "       'project_subject_subcategories', 'project_title', 'project_essay_1',\n",
      "       'project_essay_2', 'project_essay_3', 'project_essay_4',\n",
      "       'project_resource_summary',\n",
      "       'teacher_number_of_previously_posted_projects', 'project_is_approved',\n",
      "       'clean_catogories', 'clean_subcateegory', 'Eassy'],\n",
      "      dtype='object')\n"
     ]
    }
   ],
   "source": [
    "print(train_df.columns)"
   ]
  },
  {
   "cell_type": "code",
   "execution_count": 61,
   "metadata": {},
   "outputs": [
    {
     "name": "stdout",
     "output_type": "stream",
     "text": [
      "0    My students need opportunities to practice beg...\n",
      "1    My students need a projector to help with view...\n",
      "2    My students need shine guards, athletic socks,...\n",
      "3    My students need to engage in Reading and Math...\n",
      "4    My students need hands on practice in mathemat...\n",
      "5    My students need movement to be successful. Be...\n",
      "6    My students need some dependable laptops for d...\n",
      "7    My students need ipads to help them access a w...\n",
      "8    My students need three devices and three manag...\n",
      "9    My students need great books to use during Ind...\n",
      "Name: project_resource_summary, dtype: object\n"
     ]
    }
   ],
   "source": [
    "print(train_df[\"project_resource_summary\"].head(10))"
   ]
  },
  {
   "cell_type": "code",
   "execution_count": 62,
   "metadata": {},
   "outputs": [
    {
     "name": "stderr",
     "output_type": "stream",
     "text": [
      "C:\\ProgramData\\Anaconda3\\lib\\site-packages\\ipykernel_launcher.py:6: FutureWarning: using a dict on a Series for aggregation\n",
      "is deprecated and will be removed in a future version\n",
      "  \n",
      "C:\\ProgramData\\Anaconda3\\lib\\site-packages\\ipykernel_launcher.py:7: FutureWarning: using a dict on a Series for aggregation\n",
      "is deprecated and will be removed in a future version\n",
      "  import sys\n"
     ]
    },
    {
     "data": {
      "image/png": "[encoded data removed]",
      "text/plain": [
       "<Figure size 1440x360 with 1 Axes>"
      ]
     },
     "metadata": {
      "needs_background": "light"
     },
     "output_type": "display_data"
    },
    {
     "name": "stdout",
     "output_type": "stream",
     "text": [
      "                               project_resource_summary  project_is_approved  \\\n",
      "450   My students need Chromebooks to do all the thi...                    2   \n",
      "2395  My students need chromebooks to do all the thi...                    2   \n",
      "3506  My students need more options for flexible sea...                    2   \n",
      "2975  My students need hands-on opportunities to exp...                    2   \n",
      "1028  My students need a class set of cushions, head...                    2   \n",
      "\n",
      "      total  Avg  \n",
      "450       2    1  \n",
      "2395      2    1  \n",
      "3506      2    1  \n",
      "2975      2    1  \n",
      "1028      2    1  \n",
      "==================================================\n",
      "                               project_resource_summary  project_is_approved  \\\n",
      "3295  My students need leveled texts so they can rec...                    1   \n",
      "3294  My students need leveled reading material to s...                    1   \n",
      "3293  My students need leveled reading books to incr...                    1   \n",
      "3292  My students need leveled readers, rekenereks, ...                    0   \n",
      "3291  My students need leveled readers to help them ...                    1   \n",
      "\n",
      "      total  Avg  \n",
      "3295      1    1  \n",
      "3294      1    1  \n",
      "3293      1    1  \n",
      "3292      1    0  \n",
      "3291      1    1  \n"
     ]
    }
   ],
   "source": [
    "### \n",
    "univariate_barplots(train_df,'project_resource_summary','project_is_approved',top=50)"
   ]
  },
  {
   "cell_type": "markdown",
   "metadata": {},
   "source": [
    "#### observation: \n",
    "                    we plotting here based on project_resource_summary we categorized total number of projects .\n",
    "                   "
   ]
  },
  {
   "cell_type": "markdown",
   "metadata": {},
   "source": [
    "# 3. preprocessing :"
   ]
  },
  {
   "cell_type": "code",
   "execution_count": 63,
   "metadata": {},
   "outputs": [
    {
     "name": "stdout",
     "output_type": "stream",
     "text": [
      "   Unnamed: 0       id                        teacher_id teacher_prefix  \\\n",
      "0      160221  p253737  c90749f5d961ff158d4b4d1e7dc665fc           Mrs.   \n",
      "1      140945  p258326  897464ce9ddc600bced1151f324dd63a            Mr.   \n",
      "\n",
      "  school_state project_submitted_datetime project_grade_category  \\\n",
      "0           IN        2016-12-05 13:43:57          Grades PreK-2   \n",
      "1           FL        2016-10-25 09:22:10             Grades 6-8   \n",
      "\n",
      "      project_subject_subcategories  \\\n",
      "0                     ESL, Literacy   \n",
      "1  Civics & Government, Team Sports   \n",
      "\n",
      "                                      project_title  \\\n",
      "0  Educational Support for English Learners at Home   \n",
      "1             Wanted: Projector for Hungry Learners   \n",
      "\n",
      "                                     project_essay_1  \\\n",
      "0  My students are English learners that are work...   \n",
      "1  Our students arrive to our school eager to lea...   \n",
      "\n",
      "                                     project_essay_2 project_essay_3  \\\n",
      "0  \\\"The limits of your language are the limits o...             NaN   \n",
      "1  The projector we need for our school is very c...             NaN   \n",
      "\n",
      "  project_essay_4                           project_resource_summary  \\\n",
      "0             NaN  My students need opportunities to practice beg...   \n",
      "1             NaN  My students need a projector to help with view...   \n",
      "\n",
      "   teacher_number_of_previously_posted_projects  project_is_approved  \\\n",
      "0                                             0                    0   \n",
      "1                                             7                    1   \n",
      "\n",
      "               clean_catogories            clean_subcateegory  \\\n",
      "0             Literacy_Language                  ESL Literacy   \n",
      "1  History_Civics Health_Sports  Civics_Government TeamSports   \n",
      "\n",
      "                                               Eassy  \n",
      "0  My students are English learners that are work...  \n",
      "1  Our students arrive to our school eager to lea...  \n"
     ]
    }
   ],
   "source": [
    "print(train_df.head(2))"
   ]
  },
  {
   "cell_type": "markdown",
   "metadata": {},
   "source": [
    "#### observation :\n",
    "                  here we got two columns we need to preproceesing data \n",
    "                  1)Eassy\n",
    "                  2)project_title"
   ]
  },
  {
   "cell_type": "code",
   "execution_count": 64,
   "metadata": {},
   "outputs": [
    {
     "name": "stdout",
     "output_type": "stream",
     "text": [
      "My students are English learners that are working on English as their second or third languages. We are a melting pot of refugees, immigrants, and native-born Americans bringing the gift of language to our school. \\r\\n\\r\\n We have over 24 languages represented in our English Learner program with students at every level of mastery.  We also have over 40 countries represented with the families within our school.  Each student brings a wealth of knowledge and experiences to us that open our eyes to new cultures, beliefs, and respect.\\\"The limits of your language are the limits of your world.\\\"-Ludwig Wittgenstein  Our English learner's have a strong support system at home that begs for more resources.  Many times our parents are learning to read and speak English along side of their children.  Sometimes this creates barriers for parents to be able to help their child learn phonetics, letter recognition, and other reading skills.\\r\\n\\r\\nBy providing these dvd's and players, students are able to continue their mastery of the English language even if no one at home is able to assist.  All families with students within the Level 1 proficiency status, will be a offered to be a part of this program.  These educational videos will be specially chosen by the English Learner Teacher and will be sent home regularly to watch.  The videos are to help the child develop early reading skills.\\r\\n\\r\\nParents that do not have access to a dvd player will have the opportunity to check out a dvd player to use for the year.  The plan is to use these videos and educational dvd's for the years to come for other EL students.\\r\\nnannan\n",
      "==================================================\n",
      "\\\"There are many little ways to enlarge your world. Love of books is the best of all.” - Jacqueline Kennedy\\r\\n\\r\\nI work at a Title 1 school which serves students of lower income families.\\r\\nThey often enter 5th grade reading at a second grade level with the notion that reading is just another thing they're not good at. I provide them with the motivation to want to pick up a book, snuggle up on a bean bag, and read more than they ever have in their lifetime.I've had 8 sets of students enjoy the books in our classroom library throughout the past few years, and as a result most of them are falling apart. It is a testament to how much they have loved reading but unfortunately the books will soon need to be retired. With the purchase of these new books, you will ensure that the joy of reading continues on past this school year. A Haunted Mystery Series, Word of Mouse, and The Babysitters Club are just a few books my students would love to read. \\r\\n\\r\\nMy students struggle with building their vocabulary and by the time they reach 5th grade, most of them have no interest in picking up a book.\\r\\n\\r\\nI am determined to change their futures through sharing the joy of reading. Reading allows them to make connections beyond their own limited world and gives them a gateway to limitless opportunities. Your donations will help improve our classroom library and will be tangible evidence to my students that I'm not the only one who thinks reading changes lives!nannan\n",
      "==================================================\n",
      "How do you remember your days of school? Was it in a sterile environment with plain walls, rows of desks, and a teacher in front of the room? A typical day in our room is nothing like that. I work hard to create a warm inviting themed room for my students look forward to coming to each day.\\r\\n\\r\\nMy class is made up of 28 wonderfully unique boys and girls of mixed races in Arkansas.\\r\\nThey attend a Title I school, which means there is a high enough percentage of free and reduced-price lunch to qualify. Our school is an \\\"open classroom\\\" concept, which is very unique as there are no walls separating the classrooms. These 9 and 10 year-old students are very eager learners; they are like sponges, absorbing all the information and experiences and keep on wanting more.With these resources such as the comfy red throw pillows and the whimsical nautical hanging decor and the blue fish nets, I will be able to help create the mood in our classroom setting to be one of a themed nautical environment. Creating a classroom environment is very important in the success in each and every child's education. The nautical photo props will be used with each child as they step foot into our classroom for the first time on Meet the Teacher evening. I'll take pictures of each child with them, have them developed, and then hung in our classroom ready for their first day of 4th grade.  This kind gesture will set the tone before even the first day of school! The nautical thank you cards will be used throughout the year by the students as they create thank you cards to their team groups.\\r\\n\\r\\nYour generous donations will help me to help make our classroom a fun, inviting, learning environment from day one.\\r\\n\\r\\nIt costs lost of money out of my own pocket on resources to get our classroom ready. Please consider helping with this project to make our new school year a very successful one. Thank you!nannan\n",
      "==================================================\n",
      "Our classroom  is a center-based haven for  students with social and emotional disorders to come and receive the education they deserve. \\r\\n\\r\\nMy students encounter trials and tribulations on a daily basis, both inside and outside of the classroom. In our classroom we celebrate their differences and reinforce their value as a member of our small, but extremely resilient community. We strive to provide this population of students with the skills and experiences they need in order to succeed and rejoin their classmates in their respective districts. We do this by creating an exciting and engaging learning environment through lessons, community base instruction and sensory experiences.Read aloud is one of my students favorite periods of the school day.  They frequently get lost in the pages of a book and their imaginations take flight.  When the book closes their access to far away places becomes more limited, as many of my students are not yet independent readers.\\r\\n\\r\\nI would like to keep their imagination captive by providing them the opportunity to continue their reading adventures with a classroom listening center.  Providing my students unlimited access to high interest texts and a fluent reading model will foster their interest in books, and assist in building their own reading fluency.nannan\n",
      "==================================================\n",
      "Describing my students isn't an easy task.  Many would say that they are inspirational, creative, and hard-working.  They are all unique - unique in their interests, their learning, their abilities, and so much more.  What they all have in common is their desire to learn each day, despite difficulties that they encounter.  \\r\\nOur classroom is amazing - because we understand that everyone learns at their own pace.  As the teacher, I pride myself in making sure my students are always engaged, motivated, and inspired to create their own learning! \\r\\nThis project is to help my students choose seating that is more appropriate for them, developmentally.  Many students tire of sitting in chairs during lessons, and having different seats available helps to keep them engaged and learning.\\r\\nFlexible seating is important in our classroom, as many of our students struggle with attention, focus, and engagement.  We currently have stability balls for seating, as well as regular chairs, but these stools will help students who have trouble with balance, or find it difficult to sit on a stability ball for a long period of time.  We are excited to try these stools as a part of our engaging classroom community!nannan\n",
      "==================================================\n",
      "My students attend a low income/high poverty title one school in east Charlotte. They come in with a variety of pasts and different home lives, but they do their very best to meet their potential each and every day. My students are intelligent and so determined! They tend to look at life with a different perspective - an inspiring one. We want to make sure that all needs are met so that when at school, their main focus is overcoming obstacles and meeting their goals!Each student who walks through my door receives free breakfast and lunch at school.  Our third graders eat breakfast at 7:30 in the morning and don't eat lunch until 1:30. For a student, that's a very long time to be working academically without refueling. We want our scholars to have the energy to participate and learn in all subjects throughout the morning! Each child has the ability to reach their goals, but we need to make sure they have all of the necessities. Allowing us to keep snacks in the classroom will give our students the chance to do their best work and meet their highest potential!nannan\n"
     ]
    }
   ],
   "source": [
    "print(train_df[\"Eassy\"].values[0])\n",
    "print(\"=\"*50)\n",
    "print(train_df[\"Eassy\"].values[10])\n",
    "print(\"=\"*50)\n",
    "print(train_df[\"Eassy\"].values[1000])\n",
    "print(\"=\"*50)\n",
    "print(train_df[\"Eassy\"].values[1500])\n",
    "print(\"=\"*50)\n",
    "print(train_df[\"Eassy\"].values[2000])\n",
    "print(\"=\"*50)\n",
    "print(train_df[\"Eassy\"].values[2500])"
   ]
  },
  {
   "cell_type": "code",
   "execution_count": 65,
   "metadata": {},
   "outputs": [],
   "source": [
    "##removing contraction english language  don't ==> do not\n",
    "import re\n",
    "\n",
    "def decontracted(phrase):\n",
    "    # specific\n",
    "    phrase = re.sub(r\"won\\'t\", \"will not\", phrase)\n",
    "    phrase = re.sub(r\"can\\'t\", \"can not\", phrase)\n",
    "\n",
    "    # general\n",
    "    phrase = re.sub(r\"n\\'t\", \" not\", phrase)\n",
    "    phrase = re.sub(r\"\\'re\", \" are\", phrase)\n",
    "    phrase = re.sub(r\"\\'s\", \" is\", phrase)\n",
    "    phrase = re.sub(r\"\\'d\", \" would\", phrase)\n",
    "    phrase = re.sub(r\"\\'ll\", \" will\", phrase)\n",
    "    phrase = re.sub(r\"\\'t\", \" not\", phrase)\n",
    "    phrase = re.sub(r\"\\'ve\", \" have\", phrase)\n",
    "    phrase = re.sub(r\"\\'m\", \" am\", phrase)\n",
    "    return phrase\n",
    "#print(decontracted(train_df[\"Eassy\"].values[2500]))"
   ]
  },
  {
   "cell_type": "code",
   "execution_count": 66,
   "metadata": {},
   "outputs": [
    {
     "name": "stdout",
     "output_type": "stream",
     "text": [
      "My students attend a low income/high poverty title one school in east Charlotte. They come in with a variety of pasts and different home lives, but they do their very best to meet their potential each and every day. My students are intelligent and so determined! They tend to look at life with a different perspective - an inspiring one. We want to make sure that all needs are met so that when at school, their main focus is overcoming obstacles and meeting their goals!Each student who walks through my door receives free breakfast and lunch at school.  Our third graders eat breakfast at 7:30 in the morning and do not eat lunch until 1:30. For a student, that is a very long time to be working academically without refueling. We want our scholars to have the energy to participate and learn in all subjects throughout the morning! Each child has the ability to reach their goals, but we need to make sure they have all of the necessities. Allowing us to keep snacks in the classroom will give our students the chance to do their best work and meet their highest potential!nannan\n"
     ]
    }
   ],
   "source": [
    "sent = (decontracted(train_df[\"Eassy\"].values[2500]))\n",
    "print(sent)\n",
    "#sent_1 = (decontracted(train_df[\"Eassy\"].values[2000]))\n",
    "#print(sent_1)"
   ]
  },
  {
   "cell_type": "code",
   "execution_count": 67,
   "metadata": {},
   "outputs": [
    {
     "name": "stdout",
     "output_type": "stream",
     "text": [
      "My students attend a low income high poverty title one school in east Charlotte They come in with a variety of pasts and different home lives but they do their very best to meet their potential each and every day My students are intelligent and so determined They tend to look at life with a different perspective an inspiring one We want to make sure that all needs are met so that when at school their main focus is overcoming obstacles and meeting their goals Each student who walks through my door receives free breakfast and lunch at school Our third graders eat breakfast at 7 30 in the morning and do not eat lunch until 1 30 For a student that is a very long time to be working academically without refueling We want our scholars to have the energy to participate and learn in all subjects throughout the morning Each child has the ability to reach their goals but we need to make sure they have all of the necessities Allowing us to keep snacks in the classroom will give our students the chance to do their best work and meet their highest potential nannan\n"
     ]
    }
   ],
   "source": [
    "sent = re.sub('[^A-Za-z0-9]+', ' ', sent)\n",
    "print(sent)"
   ]
  },
  {
   "cell_type": "code",
   "execution_count": 68,
   "metadata": {},
   "outputs": [
    {
     "name": "stdout",
     "output_type": "stream",
     "text": [
      "My students attend a low income high poverty title one school in east Charlotte They come in with a variety of pasts and different home lives but they do their very best to meet their potential each and every day My students are intelligent and so determined They tend to look at life with a different perspective an inspiring one We want to make sure that all needs are met so that when at school their main focus is overcoming obstacles and meeting their goals Each student who walks through my door receives free breakfast and lunch at school Our third graders eat breakfast at 7 30 in the morning and do not eat lunch until 1 30 For a student that is a very long time to be working academically without refueling We want our scholars to have the energy to participate and learn in all subjects throughout the morning Each child has the ability to reach their goals but we need to make sure they have all of the necessities Allowing us to keep snacks in the classroom will give our students the chance to do their best work and meet their highest potential nannan\n"
     ]
    }
   ],
   "source": [
    "### here we \\n \\r \n",
    "\n",
    "sent = sent.replace('\\\\n', ' ').replace('\\\\r', '')\n",
    "print(sent)"
   ]
  },
  {
   "cell_type": "code",
   "execution_count": 69,
   "metadata": {},
   "outputs": [],
   "source": [
    "# https://gist.github.com/sebleier/554280\n",
    "# we are removing the words from the stop words list: 'no', 'nor', 'not'\n",
    "stopwords= ['i', 'me', 'my', 'myself', 'we', 'our', 'ours', 'ourselves', 'you', \"you're\", \"you've\",\\\n",
    "            \"you'll\", \"you'd\", 'your', 'yours', 'yourself', 'yourselves', 'he', 'him', 'his', 'himself', \\\n",
    "            'she', \"she's\", 'her', 'hers', 'herself', 'it', \"it's\", 'its', 'itself', 'they', 'them', 'their',\\\n",
    "            'theirs', 'themselves', 'what', 'which', 'who', 'whom', 'this', 'that', \"that'll\", 'these', 'those', \\\n",
    "            'am', 'is', 'are', 'was', 'were', 'be', 'been', 'being', 'have', 'has', 'had', 'having', 'do', 'does', \\\n",
    "            'did', 'doing', 'a', 'an', 'the', 'and', 'but', 'if', 'or', 'because', 'as', 'until', 'while', 'of', \\\n",
    "            'at', 'by', 'for', 'with', 'about', 'against', 'between', 'into', 'through', 'during', 'before', 'after',\\\n",
    "            'above', 'below', 'to', 'from', 'up', 'down', 'in', 'out', 'on', 'off', 'over', 'under', 'again', 'further',\\\n",
    "            'then', 'once', 'here', 'there', 'when', 'where', 'why', 'how', 'all', 'any', 'both', 'each', 'few', 'more',\\\n",
    "            'most', 'other', 'some', 'such', 'only', 'own', 'same', 'so', 'than', 'too', 'very', \\\n",
    "            's', 't', 'can', 'will', 'just', 'don', \"don't\", 'should', \"should've\", 'now', 'd', 'll', 'm', 'o', 're', \\\n",
    "            've', 'y', 'ain', 'aren', \"aren't\", 'couldn', \"couldn't\", 'didn', \"didn't\", 'doesn', \"doesn't\", 'hadn',\\\n",
    "            \"hadn't\", 'hasn', \"hasn't\", 'haven', \"haven't\", 'isn', \"isn't\", 'ma', 'mightn', \"mightn't\", 'mustn',\\\n",
    "            \"mustn't\", 'needn', \"needn't\", 'shan', \"shan't\", 'shouldn', \"shouldn't\", 'wasn', \"wasn't\", 'weren', \"weren't\", \\\n",
    "            'won', \"won't\", 'wouldn', \"wouldn't\"]"
   ]
  },
  {
   "cell_type": "code",
   "execution_count": 70,
   "metadata": {},
   "outputs": [
    {
     "name": "stderr",
     "output_type": "stream",
     "text": [
      "100%|████████████████████████████████████████████████████████████████████████████| 5000/5000 [00:02<00:00, 1702.54it/s]\n"
     ]
    }
   ],
   "source": [
    "## combine all the above statments :for doing well text preprocesssing\n",
    "from tqdm import tqdm\n",
    "text = []\n",
    "for sentence in tqdm(train_df[\"Eassy\"].values):\n",
    "    sent = decontracted(sentence)\n",
    "    sent = sent.replace('\\\\r', ' ')\n",
    "    sent = sent.replace('\\\\\"', ' ')\n",
    "    sent = sent.replace('\\\\n', ' ')\n",
    "    sent = re.sub('[^A-Za-z0-9]+', ' ', sent)\n",
    "    sent = ' '.join(e for e in sent.split() if e not in stopwords)\n",
    "    text.append(sent.lower().strip())"
   ]
  },
  {
   "cell_type": "markdown",
   "metadata": {},
   "source": [
    "#### observation :\n",
    "                  firstly we clean our data/remove special character and \\r,\\n after that we combine all the Above text."
   ]
  },
  {
   "cell_type": "code",
   "execution_count": 71,
   "metadata": {},
   "outputs": [
    {
     "name": "stdout",
     "output_type": "stream",
     "text": [
      "describing students not easy task many would say inspirational creative hard working they unique unique interests learning abilities much what common desire learn day despite difficulties encounter our classroom amazing understand everyone learns pace as teacher i pride making sure students always engaged motivated inspired create learning this project help students choose seating appropriate developmentally many students tire sitting chairs lessons different seats available helps keep engaged learning flexible seating important classroom many students struggle attention focus engagement we currently stability balls seating well regular chairs stools help students trouble balance find difficult sit stability ball long period time we excited try stools part engaging classroom community nannan\n",
      "==================================================\n",
      "our classroom center based students social emotional disorders come receive education deserve my students encounter trials tribulations daily basis inside outside classroom in classroom celebrate differences reinforce value member small extremely resilient community we strive provide population students skills experiences need order succeed rejoin classmates respective districts we creating exciting engaging learning environment lessons community base instruction sensory experiences read aloud one students favorite periods school day they frequently get lost pages book imaginations take flight when book closes access far away places becomes limited many students not yet independent readers i would like keep imagination captive providing opportunity continue reading adventures classroom listening center providing students unlimited access high interest texts fluent reading model foster interest books assist building reading fluency nannan\n",
      "==================================================\n",
      "describing students not easy task many would say inspirational creative hard working they unique unique interests learning abilities much what common desire learn day despite difficulties encounter our classroom amazing understand everyone learns pace as teacher i pride making sure students always engaged motivated inspired create learning this project help students choose seating appropriate developmentally many students tire sitting chairs lessons different seats available helps keep engaged learning flexible seating important classroom many students struggle attention focus engagement we currently stability balls seating well regular chairs stools help students trouble balance find difficult sit stability ball long period time we excited try stools part engaging classroom community nannan\n"
     ]
    }
   ],
   "source": [
    "print(text[2000])\n",
    "print(\"=\"*50)\n",
    "print(text[1500])\n",
    "print(\"=\"*50)\n",
    "print(text[2000])"
   ]
  },
  {
   "cell_type": "markdown",
   "metadata": {},
   "source": [
    "### text preprocessing : project title"
   ]
  },
  {
   "cell_type": "code",
   "execution_count": 72,
   "metadata": {},
   "outputs": [
    {
     "name": "stdout",
     "output_type": "stream",
     "text": [
      "It's the 21st Century\n",
      "==================================================\n",
      "Just For the Love of Reading--\\r\\nPure Pleasure\n",
      "==================================================\n",
      "Listen and Love Learning! Headphones Needed!\n",
      "==================================================\n",
      "Making Great LEAP's With Leapfrog!\n",
      "==================================================\n",
      "Yummy, Healthy Snacks To Get Rid Of The Munchies!\n"
     ]
    }
   ],
   "source": [
    "print(train_df[\"project_title\"].values[7])\n",
    "print(\"=\"*50)\n",
    "print(train_df[\"project_title\"].values[9])\n",
    "print(\"=\"*50)\n",
    "print(train_df[\"project_title\"].values[650])\n",
    "print(\"=\"*50)\n",
    "print(train_df[\"project_title\"].values[16])\n",
    "print(\"=\"*50)\n",
    "print(train_df[\"project_title\"].values[4971])"
   ]
  },
  {
   "cell_type": "code",
   "execution_count": 73,
   "metadata": {},
   "outputs": [],
   "source": [
    "### removing will'nt ==> will not\n",
    "import re\n",
    "\n",
    "def decontracted(phrase):\n",
    "    # specific\n",
    "    phrase = re.sub(r\"won\\'t\", \"will not\", phrase)\n",
    "    phrase = re.sub(r\"can\\'t\", \"can not\", phrase)\n",
    "\n",
    "    # general\n",
    "    phrase = re.sub(r\"n\\'t\", \" not\", phrase)\n",
    "    phrase = re.sub(r\"\\'re\", \" are\", phrase)\n",
    "    phrase = re.sub(r\"\\'s\", \" is\", phrase)\n",
    "    phrase = re.sub(r\"\\'d\", \" would\", phrase)\n",
    "    phrase = re.sub(r\"\\'ll\", \" will\", phrase)\n",
    "    phrase = re.sub(r\"\\'t\", \" not\", phrase)\n",
    "    phrase = re.sub(r\"\\'ve\", \" have\", phrase)\n",
    "    phrase = re.sub(r\"\\'m\", \" am\", phrase)\n",
    "    return phrase"
   ]
  },
  {
   "cell_type": "code",
   "execution_count": 74,
   "metadata": {},
   "outputs": [
    {
     "name": "stdout",
     "output_type": "stream",
     "text": [
      "It is the 21st Century\n",
      "==================================================\n"
     ]
    }
   ],
   "source": [
    "line = decontracted(train_df[\"project_title\"].values[7])\n",
    "print(line)\n",
    "print(\"=\"*50)\n"
   ]
  },
  {
   "cell_type": "code",
   "execution_count": 75,
   "metadata": {},
   "outputs": [
    {
     "name": "stdout",
     "output_type": "stream",
     "text": [
      "It is the 21st Century\n"
     ]
    }
   ],
   "source": [
    "#removing special character \\n \\r\n",
    "line = line.replace('\\\\r', ' ')\n",
    "line = line.replace('\\\\n', ' ')\n",
    "line = line.replace('\\\\\"', ' ')\n",
    "print(line)"
   ]
  },
  {
   "cell_type": "code",
   "execution_count": 76,
   "metadata": {},
   "outputs": [
    {
     "data": {
      "text/plain": [
       "'It is the 21st Century'"
      ]
     },
     "execution_count": 76,
     "metadata": {},
     "output_type": "execute_result"
    }
   ],
   "source": [
    "## removing special character \n",
    "import re\n",
    "line = re.sub(r\"[^a-zA-Z0-9]\",\" \",line)\n",
    "line"
   ]
  },
  {
   "cell_type": "code",
   "execution_count": 77,
   "metadata": {},
   "outputs": [],
   "source": [
    "#print(stopwords)"
   ]
  },
  {
   "cell_type": "code",
   "execution_count": 78,
   "metadata": {},
   "outputs": [
    {
     "name": "stderr",
     "output_type": "stream",
     "text": [
      "100%|███████████████████████████████████████████████████████████████████████████| 5000/5000 [00:00<00:00, 26672.33it/s]\n"
     ]
    }
   ],
   "source": [
    "## combine all above statment \n",
    "from tqdm import tqdm\n",
    "text_all = []\n",
    "for sentence in tqdm(train_df[\"project_title\"].values):\n",
    "    line = decontracted(sentence)\n",
    "    line = line.replace('\\\\r', ' ')\n",
    "    line = line.replace('\\\\n', ' ')\n",
    "    line = line.replace('\\\\\"', ' ')\n",
    "    line = re.sub('[^A-Za-z0-9]+', ' ', line)\n",
    "    \n",
    "    line = ' '.join(j for j in line.split() if j not in stopwords)\n",
    "    text_all.append(line.lower().strip())"
   ]
  },
  {
   "cell_type": "markdown",
   "metadata": {},
   "source": [
    "#### observation :\n",
    "                 after cleaning/removing all the special character and all stopwords we preprocess text data."
   ]
  },
  {
   "cell_type": "code",
   "execution_count": 79,
   "metadata": {},
   "outputs": [
    {
     "name": "stdout",
     "output_type": "stream",
     "text": [
      "it 21st century\n",
      "==================================================\n",
      "just for love reading pure pleasure\n",
      "==================================================\n",
      "listen love learning headphones needed\n",
      "==================================================\n",
      "making great leap with leapfrog\n",
      "==================================================\n",
      "yummy healthy snacks to get rid of the munchies\n"
     ]
    }
   ],
   "source": [
    "## after preprocessing\n",
    "print(text_all[7])\n",
    "print(\"=\"*50)\n",
    "print(text_all[9])\n",
    "print(\"=\"*50)\n",
    "print(text_all[650])\n",
    "print(\"=\"*50)\n",
    "print(text_all[16])\n",
    "print(\"=\"*50)\n",
    "print(text_all[4971])\n"
   ]
  },
  {
   "cell_type": "markdown",
   "metadata": {},
   "source": [
    "#### observation:\n",
    "                here after preprocess our project_title look's like this\n",
    "                after removing \\n,\\r\n",
    "                after removing special character's"
   ]
  },
  {
   "cell_type": "markdown",
   "metadata": {},
   "source": [
    "# 4.preparing data for Models :"
   ]
  },
  {
   "cell_type": "code",
   "execution_count": 80,
   "metadata": {},
   "outputs": [
    {
     "name": "stdout",
     "output_type": "stream",
     "text": [
      "Index(['Unnamed: 0', 'id', 'teacher_id', 'teacher_prefix', 'school_state',\n",
      "       'project_submitted_datetime', 'project_grade_category',\n",
      "       'project_subject_subcategories', 'project_title', 'project_essay_1',\n",
      "       'project_essay_2', 'project_essay_3', 'project_essay_4',\n",
      "       'project_resource_summary',\n",
      "       'teacher_number_of_previously_posted_projects', 'project_is_approved',\n",
      "       'clean_catogories', 'clean_subcateegory', 'Eassy'],\n",
      "      dtype='object')\n"
     ]
    }
   ],
   "source": [
    "print(train_df.columns)"
   ]
  },
  {
   "cell_type": "markdown",
   "metadata": {},
   "source": [
    "#### observation :\n",
    "               here some columns are categorical ,numerical and text data:\n",
    "               1) Categorical data:\n",
    "               -------------------- 'teacher_prefix','school_state','project_grade_category','project_subject_subcategories'\n",
    "               2) text data:\n",
    "               -------------  'Eassy','project_resource_summary',\n",
    "               3) Numerical data:\n",
    "               -------------------   'teacher_number_of_previously_posted_projects'\n",
    "               "
   ]
  },
  {
   "cell_type": "code",
   "execution_count": 81,
   "metadata": {},
   "outputs": [],
   "source": [
    "#print(sub_cat_dict.keys())"
   ]
  },
  {
   "cell_type": "code",
   "execution_count": 82,
   "metadata": {},
   "outputs": [
    {
     "name": "stdout",
     "output_type": "stream",
     "text": [
      "['Economics', 'FinancialLiteracy', 'CommunityService', 'ForeignLanguages', 'Extracurricular', 'ParentInvolvement', 'Civics_Government', 'NutritionEducation', 'Warmth', 'Care_Hunger', 'SocialSciences', 'CharacterEducation', 'PerformingArts', 'College_CareerPrep', 'Other', 'TeamSports', 'History_Geography', 'Music', 'ESL', 'EarlyDevelopment', 'Health_LifeScience', 'Gym_Fitness', 'EnvironmentalScience', 'VisualArts', 'Health_Wellness', 'AppliedSciences', 'SpecialNeeds', 'Literature_Writing', 'Mathematics', 'Literacy']\n",
      "(5000, 30)\n"
     ]
    }
   ],
   "source": [
    "# we use count vectorizer to convert the values into one hot encoded features\n",
    "from sklearn.feature_extraction.text import CountVectorizer\n",
    "vectorizer = CountVectorizer(vocabulary=list(sorted_by_value.keys()),lowercase =False)\n",
    "vectorizer.fit(train_df[\"clean_catogories\"].values)\n",
    "print(vectorizer.get_feature_names())\n",
    "\n",
    "sub_cat_one_hot = vectorizer.transform(train_df[\"clean_catogories\"].values)\n",
    "print(sub_cat_one_hot.shape)"
   ]
  },
  {
   "cell_type": "code",
   "execution_count": 83,
   "metadata": {},
   "outputs": [],
   "source": [
    "#print(train_df[\"clean_catogories\"].head(5))\n",
    "#print(\"=\"*50)\n",
    "#print(train_df[\"clean_subcateegory\"].head(5))"
   ]
  },
  {
   "cell_type": "code",
   "execution_count": 84,
   "metadata": {},
   "outputs": [
    {
     "name": "stdout",
     "output_type": "stream",
     "text": [
      "['ESL', 'Literacy', 'Civics_Government', 'TeamSports', 'Health_Wellness', 'Mathematics', 'Literature_Writing', 'SpecialNeeds', 'ParentInvolvement', 'EnvironmentalScience', 'Health_LifeScience', 'AppliedSciences', 'EarlyDevelopment', 'Music', 'ForeignLanguages', 'Other', 'Economics', 'FinancialLiteracy', 'Gym_Fitness', 'VisualArts', 'Warmth', 'Care_Hunger', 'SocialSciences', 'College_CareerPrep', 'CharacterEducation', 'PerformingArts', 'CommunityService', 'History_Geography', 'NutritionEducation', 'Extracurricular']\n",
      "(5000, 30)\n"
     ]
    }
   ],
   "source": [
    "# we use count vectorizer to convert the values into one hot encoded features\n",
    "from sklearn.feature_extraction.text import CountVectorizer\n",
    "vectorizer = CountVectorizer(vocabulary=list(sub_cat_dict.keys()),lowercase =False)\n",
    "vectorizer.fit(train_df[\"school_state\"].values)\n",
    "print(vectorizer.get_feature_names())\n",
    "\n",
    "sub_cat_one_hot = vectorizer.transform(train_df[\"school_state\"].values)\n",
    "print(sub_cat_one_hot.shape)"
   ]
  },
  {
   "cell_type": "markdown",
   "metadata": {},
   "source": [
    "# 4.1Building Data matrix"
   ]
  },
  {
   "cell_type": "markdown",
   "metadata": {},
   "source": [
    "### 4.1.1 school_state : categorical data (one hot encoding) :-"
   ]
  },
  {
   "cell_type": "code",
   "execution_count": 85,
   "metadata": {},
   "outputs": [],
   "source": [
    "school_data = list(train_df[\"school_state\"].values)\n",
    "#print(school_data)\n",
    "school_df = dict(school_data)\n",
    "#print(school_df)"
   ]
  },
  {
   "cell_type": "code",
   "execution_count": 86,
   "metadata": {},
   "outputs": [],
   "source": [
    "## count all words\n",
    "# count of all the words in corpus python: https://stackoverflow.com/a/22898595/4084039\n",
    "from collections import Counter\n",
    "my_counter = Counter()\n",
    "for word in train_df['school_state'].values:\n",
    "    my_counter.update(word.split())"
   ]
  },
  {
   "cell_type": "code",
   "execution_count": 87,
   "metadata": {},
   "outputs": [],
   "source": [
    "# dict sort by value python: https://stackoverflow.com/a/613218/4084039\n",
    "cat_dict = dict(my_counter)\n",
    "sorted_school_df = dict(sorted(cat_dict.items(), key=lambda kv: kv[1]))"
   ]
  },
  {
   "cell_type": "code",
   "execution_count": 88,
   "metadata": {},
   "outputs": [
    {
     "name": "stdout",
     "output_type": "stream",
     "text": [
      "['VT', 'MT', 'WY', 'DE', 'ND', 'NH', 'RI', 'SD', 'AK', 'ME', 'NE', 'WV', 'NM', 'DC', 'HI', 'ID', 'IA', 'KS', 'MS', 'MN', 'AR', 'NV', 'CO', 'KY', 'OR', 'MD', 'WI', 'UT', 'CT', 'AL', 'TN', 'VA', 'WA', 'AZ', 'NJ', 'IN', 'LA', 'MA', 'MO', 'OK', 'OH', 'PA', 'MI', 'GA', 'IL', 'SC', 'NC', 'FL', 'NY', 'TX', 'CA']\n"
     ]
    }
   ],
   "source": [
    "from sklearn.feature_extraction.text import CountVectorizer\n",
    "vectorizer = CountVectorizer(lowercase=True,vocabulary=list(sorted_school_df.keys()),binary=True)\n",
    "vectorizer.fit(train_df['school_state'].values)\n",
    "print(vectorizer.get_feature_names())\n"
   ]
  },
  {
   "cell_type": "code",
   "execution_count": 89,
   "metadata": {},
   "outputs": [
    {
     "name": "stdout",
     "output_type": "stream",
     "text": [
      "Index(['Unnamed: 0', 'id', 'teacher_id', 'teacher_prefix', 'school_state',\n",
      "       'project_submitted_datetime', 'project_grade_category',\n",
      "       'project_subject_subcategories', 'project_title', 'project_essay_1',\n",
      "       'project_essay_2', 'project_essay_3', 'project_essay_4',\n",
      "       'project_resource_summary',\n",
      "       'teacher_number_of_previously_posted_projects', 'project_is_approved',\n",
      "       'clean_catogories', 'clean_subcateegory', 'Eassy'],\n",
      "      dtype='object')\n"
     ]
    }
   ],
   "source": [
    "print(train_df.columns)"
   ]
  },
  {
   "cell_type": "markdown",
   "metadata": {},
   "source": [
    "### 4.1.2 clean_categories :categorical data (one hot encoding) :-"
   ]
  },
  {
   "cell_type": "code",
   "execution_count": 90,
   "metadata": {},
   "outputs": [],
   "source": [
    "# count of all the words in corpus python: https://stackoverflow.com/a/22898595/4084039\n",
    "from collections import Counter\n",
    "my_counter = Counter()\n",
    "for word in train_df['clean_catogories'].values:\n",
    "    my_counter.update(word.split())"
   ]
  },
  {
   "cell_type": "code",
   "execution_count": 91,
   "metadata": {},
   "outputs": [],
   "source": [
    "# dict sort by value python: https://stackoverflow.com/a/613218/4084039\n",
    "cat_dict = dict(my_counter)\n",
    "sorted_cat_dict = dict(sorted(cat_dict.items(), key=lambda kv: kv[1]))\n",
    "\n",
    "\n",
    "#ind = np.arange(len(sorted_cat_dict))\n",
    "#plt.figure(figsize=(20,5))\n",
    "#p1 = plt.bar(ind, list(sorted_cat_dict.values()))\n",
    "\n",
    "#plt.ylabel('Projects')\n",
    "#plt.title('% of projects aproved category wise')\n",
    "#plt.xticks(ind, list(sorted_cat_dict.keys()))\n",
    "#plt.show()"
   ]
  },
  {
   "cell_type": "code",
   "execution_count": 92,
   "metadata": {},
   "outputs": [
    {
     "name": "stdout",
     "output_type": "stream",
     "text": [
      "['Warmth', 'Care_Hunger', 'History_Civics', 'Music_Arts', 'AppliedLearning', 'SpecialNeeds', 'Health_Sports', 'Math_Science', 'Literacy_Language']\n",
      "Shape of matrix after one hot encodig  (5000, 9)\n"
     ]
    }
   ],
   "source": [
    "# we use count vectorizer to convert the values into one hot encoded features\n",
    "from sklearn.feature_extraction.text import CountVectorizer\n",
    "vectorizer = CountVectorizer(vocabulary=list(sorted_cat_dict.keys()), lowercase=False, binary=True)\n",
    "vectorizer.fit(train_df['clean_catogories'].values)\n",
    "print(vectorizer.get_feature_names())\n",
    "\n",
    "\n",
    "categories_one_hot = vectorizer.transform(train_df['clean_catogories'].values)\n",
    "print(\"Shape of matrix after one hot encodig \",categories_one_hot.shape)"
   ]
  },
  {
   "cell_type": "code",
   "execution_count": 93,
   "metadata": {},
   "outputs": [
    {
     "name": "stdout",
     "output_type": "stream",
     "text": [
      "Index(['Unnamed: 0', 'id', 'teacher_id', 'teacher_prefix', 'school_state',\n",
      "       'project_submitted_datetime', 'project_grade_category',\n",
      "       'project_subject_subcategories', 'project_title', 'project_essay_1',\n",
      "       'project_essay_2', 'project_essay_3', 'project_essay_4',\n",
      "       'project_resource_summary',\n",
      "       'teacher_number_of_previously_posted_projects', 'project_is_approved',\n",
      "       'clean_catogories', 'clean_subcateegory', 'Eassy'],\n",
      "      dtype='object')\n"
     ]
    }
   ],
   "source": [
    "print(train_df.columns)"
   ]
  },
  {
   "cell_type": "markdown",
   "metadata": {},
   "source": [
    "###  clean_subcateegory : categorical data (one hot encoding) :-\n"
   ]
  },
  {
   "cell_type": "code",
   "execution_count": 94,
   "metadata": {},
   "outputs": [],
   "source": [
    "# count of all the words in corpus python: https://stackoverflow.com/a/22898595/4084039\n",
    "from collections import Counter\n",
    "my_counter = Counter()\n",
    "for word in train_df['clean_subcateegory'].values:\n",
    "    my_counter.update(word.split())"
   ]
  },
  {
   "cell_type": "code",
   "execution_count": 95,
   "metadata": {},
   "outputs": [],
   "source": [
    "# dict sort by value python: https://stackoverflow.com/a/613218/4084039\n",
    "cat_dict = dict(my_counter)\n",
    "sorted_cat_dict = dict(sorted(cat_dict.items(), key=lambda kv: kv[1]))"
   ]
  },
  {
   "cell_type": "code",
   "execution_count": 96,
   "metadata": {},
   "outputs": [
    {
     "name": "stdout",
     "output_type": "stream",
     "text": [
      "['Economics', 'FinancialLiteracy', 'CommunityService', 'ForeignLanguages', 'Extracurricular', 'ParentInvolvement', 'Civics_Government', 'NutritionEducation', 'Warmth', 'Care_Hunger', 'SocialSciences', 'CharacterEducation', 'PerformingArts', 'College_CareerPrep', 'Other', 'TeamSports', 'History_Geography', 'Music', 'ESL', 'EarlyDevelopment', 'Health_LifeScience', 'Gym_Fitness', 'EnvironmentalScience', 'VisualArts', 'Health_Wellness', 'AppliedSciences', 'SpecialNeeds', 'Literature_Writing', 'Mathematics', 'Literacy']\n",
      "Shape of matrix after one hot encodig  (5000, 30)\n"
     ]
    }
   ],
   "source": [
    "# we use count vectorizer to convert the values into one hot encoded features\n",
    "from sklearn.feature_extraction.text import CountVectorizer\n",
    "vectorizer = CountVectorizer(vocabulary=list(sorted_cat_dict.keys()), lowercase=False, binary=True)\n",
    "vectorizer.fit(train_df['clean_subcateegory'].values)\n",
    "print(vectorizer.get_feature_names())\n",
    "\n",
    "\n",
    "categories_one_hot = vectorizer.transform(train_df['clean_subcateegory'].values)\n",
    "print(\"Shape of matrix after one hot encodig \",categories_one_hot.shape)"
   ]
  },
  {
   "cell_type": "markdown",
   "metadata": {},
   "source": [
    "### teacher_prefix : categorical data (one hot encoding):"
   ]
  },
  {
   "cell_type": "code",
   "execution_count": 97,
   "metadata": {},
   "outputs": [],
   "source": [
    "# count of all the words in corpus python: https://stackoverflow.com/a/22898595/4084039\n",
    "from collections import Counter\n",
    "my_counter = Counter()\n",
    "for word in train_df['teacher_prefix'].values:\n",
    "    my_counter.update(word.split())"
   ]
  },
  {
   "cell_type": "code",
   "execution_count": 98,
   "metadata": {},
   "outputs": [],
   "source": [
    "# dict sort by value python: https://stackoverflow.com/a/613218/4084039\n",
    "cat_dict = dict(my_counter)\n",
    "sorted_cat_dict = dict(sorted(cat_dict.items(), key=lambda kv: kv[1]))"
   ]
  },
  {
   "cell_type": "code",
   "execution_count": 99,
   "metadata": {},
   "outputs": [
    {
     "name": "stdout",
     "output_type": "stream",
     "text": [
      "['Teacher', 'Mr.', 'Ms.', 'Mrs.']\n",
      "Shape of matrix after one hot encodig  (5000, 4)\n"
     ]
    }
   ],
   "source": [
    "# we use count vectorizer to convert the values into one hot encoded features\n",
    "from sklearn.feature_extraction.text import CountVectorizer\n",
    "vectorizer = CountVectorizer(vocabulary=list(sorted_cat_dict.keys()), lowercase=False, binary=True)\n",
    "vectorizer.fit(train_df['teacher_prefix'].values)\n",
    "print(vectorizer.get_feature_names())\n",
    "\n",
    "\n",
    "categories_one_hot = vectorizer.transform(train_df['teacher_prefix'].values)\n",
    "print(\"Shape of matrix after one hot encodig \",categories_one_hot.shape)"
   ]
  },
  {
   "cell_type": "markdown",
   "metadata": {},
   "source": [
    "### project_title : text data (BOW, TFIDF, AVG W2V, TFIDF W2V)"
   ]
  },
  {
   "cell_type": "code",
   "execution_count": 100,
   "metadata": {},
   "outputs": [
    {
     "name": "stdout",
     "output_type": "stream",
     "text": [
      "Shape of matrix after one hot encodig  (5000, 3881)\n"
     ]
    }
   ],
   "source": [
    "vectorizer = CountVectorizer()\n",
    "title_text =  vectorizer.fit_transform(text_all)\n",
    "print(\"Shape of matrix after one hot encodig \",title_text.shape)"
   ]
  },
  {
   "cell_type": "code",
   "execution_count": 101,
   "metadata": {},
   "outputs": [
    {
     "name": "stdout",
     "output_type": "stream",
     "text": [
      "shape of matrix after one hot encoding  (5000, 254)\n"
     ]
    }
   ],
   "source": [
    "from sklearn.feature_extraction.text import TfidfVectorizer\n",
    "vectorizer = TfidfVectorizer(min_df=15)\n",
    "title_ifidf = vectorizer.fit_transform(text_all)\n",
    "print(\"shape of matrix after one hot encoding \",title_ifidf.shape)"
   ]
  },
  {
   "cell_type": "code",
   "execution_count": 102,
   "metadata": {},
   "outputs": [],
   "source": [
    "## storing variable into pickle file\n",
    "import pickle\n",
    "with open('glove_vectors', 'rb') as f:\n",
    "    model = pickle.load(f)\n",
    "    glove_words = set(model.keys())\n",
    "   # print(glove_words)"
   ]
  },
  {
   "cell_type": "code",
   "execution_count": 103,
   "metadata": {},
   "outputs": [
    {
     "name": "stdout",
     "output_type": "stream",
     "text": [
      "Loading Glove Model\n"
     ]
    },
    {
     "name": "stderr",
     "output_type": "stream",
     "text": [
      "400000it [00:09, 42768.01it/s]\n"
     ]
    },
    {
     "name": "stdout",
     "output_type": "stream",
     "text": [
      "Done. 400000  words loaded!\n"
     ]
    }
   ],
   "source": [
    "## preparing pretrained models \n",
    "def loadGloveModel(gloveFile):\n",
    "    print (\"Loading Glove Model\")\n",
    "    f = open(gloveFile,'r', encoding=\"utf8\")\n",
    "    model = {}\n",
    "    for line in tqdm(f):\n",
    "        splitLine = line.split()\n",
    "        word = splitLine[0]\n",
    "        embedding = np.array([float(val) for val in splitLine[1:]])\n",
    "        model[word] = embedding\n",
    "    print (\"Done.\",len(model),\" words loaded!\")\n",
    "    return model\n",
    "model = loadGloveModel('glove.6B.50d.txt')"
   ]
  },
  {
   "cell_type": "code",
   "execution_count": 104,
   "metadata": {},
   "outputs": [
    {
     "name": "stderr",
     "output_type": "stream",
     "text": [
      "100%|███████████████████████████████████████████████████████████████████████████| 5000/5000 [00:00<00:00, 80102.06it/s]\n"
     ]
    },
    {
     "name": "stdout",
     "output_type": "stream",
     "text": [
      "5000\n",
      "300\n"
     ]
    }
   ],
   "source": [
    "### avgW2V 'project_title'\n",
    "avgW2V = []\n",
    "for sentences in tqdm(text_all):\n",
    "    vector = np.zeros(300)\n",
    "    count = 0\n",
    "    for word in sentence.split():\n",
    "        for word in sentence.split(): # for each word in a review/sentence\n",
    "            if word in glove_words:\n",
    "                vector += model[word]\n",
    "                count += 1\n",
    "        if count != 0:\n",
    "            vector /= count\n",
    "    avgW2V.append(vector)\n",
    "\n",
    "print(len(avgW2V))\n",
    "print(len(avgW2V[0]))\n",
    "        "
   ]
  },
  {
   "cell_type": "code",
   "execution_count": 105,
   "metadata": {},
   "outputs": [],
   "source": [
    "# S = [\"abc def pqr\", \"def def def abc\", \"pqr pqr def\"]\n",
    "tfidf_model = TfidfVectorizer()\n",
    "tfidf_model.fit(text_all)\n",
    "# we are converting a dictionary with word as a key, and the idf as a value\n",
    "dictionary = dict(zip(tfidf_model.get_feature_names(), list(tfidf_model.idf_)))\n",
    "tfidf_words = set(tfidf_model.get_feature_names())"
   ]
  },
  {
   "cell_type": "markdown",
   "metadata": {},
   "source": [
    "### price : numerical"
   ]
  },
  {
   "cell_type": "code",
   "execution_count": 107,
   "metadata": {},
   "outputs": [
    {
     "name": "stdout",
     "output_type": "stream",
     "text": [
      "Mean 50.609516000000006\n",
      "standard dev.  125.58820014175593\n",
      "==================================================\n",
      "[[ 0.78343733]\n",
      " [-0.28394002]\n",
      " [-0.33569647]\n",
      " ...\n",
      " [ 0.83121252]\n",
      " [ 1.73894111]\n",
      " [-0.32375268]]\n"
     ]
    }
   ],
   "source": [
    "from sklearn.preprocessing import StandardScaler\n",
    "scaler = StandardScaler()\n",
    "scaler.fit(resources_df[\"price\"].values.reshape(-1,1))\n",
    "print(\"Mean\",scaler.mean_[0])\n",
    "print(\"standard dev. \",np.sqrt(scaler.var_[0]))\n",
    "price_standarized = scaler.transform(resources_df[\"price\"].values.reshape(-1,1))\n",
    "print(\"=\"*50)\n",
    "print(price_standarized)"
   ]
  },
  {
   "cell_type": "markdown",
   "metadata": {},
   "source": [
    "### teacher_number_of_previously_posted_projects : numerical"
   ]
  },
  {
   "cell_type": "code",
   "execution_count": 108,
   "metadata": {},
   "outputs": [
    {
     "name": "stderr",
     "output_type": "stream",
     "text": [
      "C:\\ProgramData\\Anaconda3\\lib\\site-packages\\sklearn\\utils\\validation.py:595: DataConversionWarning: Data with input dtype int64 was converted to float64 by StandardScaler.\n",
      "  warnings.warn(msg, DataConversionWarning)\n"
     ]
    },
    {
     "name": "stdout",
     "output_type": "stream",
     "text": [
      "Mean 10.7566\n",
      "standard dev.  26.79330058876659\n"
     ]
    },
    {
     "name": "stderr",
     "output_type": "stream",
     "text": [
      "C:\\ProgramData\\Anaconda3\\lib\\site-packages\\sklearn\\utils\\validation.py:595: DataConversionWarning: Data with input dtype int64 was converted to float64 by StandardScaler.\n",
      "  warnings.warn(msg, DataConversionWarning)\n"
     ]
    },
    {
     "name": "stdout",
     "output_type": "stream",
     "text": [
      "==================================================\n",
      "[[-0.40146603]\n",
      " [-0.14020669]\n",
      " [-0.36414327]\n",
      " ...\n",
      " [ 0.90483067]\n",
      " [-0.14020669]\n",
      " [-0.3268205 ]]\n"
     ]
    }
   ],
   "source": [
    "from sklearn.preprocessing import StandardScaler\n",
    "scaler = StandardScaler()\n",
    "scaler.fit(train_df[\"teacher_number_of_previously_posted_projects\"].values.reshape(-1,1))\n",
    "print(\"Mean\",scaler.mean_[0])\n",
    "print(\"standard dev. \",np.sqrt(scaler.var_[0]))\n",
    "price_standarized = scaler.transform(train_df[\"teacher_number_of_previously_posted_projects\"].values.reshape(-1,1))\n",
    "print(\"=\"*50)\n",
    "print(price_standarized)"
   ]
  },
  {
   "cell_type": "markdown",
   "metadata": {},
   "source": []
  },
  {
   "cell_type": "markdown",
   "metadata": {},
   "source": [
    "## 5.Bag Of Words : "
   ]
  },
  {
   "cell_type": "code",
   "execution_count": 109,
   "metadata": {},
   "outputs": [
    {
     "name": "stdout",
     "output_type": "stream",
     "text": [
      "(5000, 4373)\n"
     ]
    }
   ],
   "source": [
    "from sklearn.feature_extraction.text import CountVectorizer\n",
    "count_vect = CountVectorizer(min_df=10)\n",
    "text_bow = count_vect.fit_transform(text)\n",
    "print(text_bow.shape)\n"
   ]
  },
  {
   "cell_type": "markdown",
   "metadata": {},
   "source": [
    "#### observation :\n",
    "               we apply here Bag of Vector out of 5000 datapoint we find 4373 unique words"
   ]
  },
  {
   "cell_type": "markdown",
   "metadata": {},
   "source": [
    "#### BOW : project_title"
   ]
  },
  {
   "cell_type": "code",
   "execution_count": 110,
   "metadata": {},
   "outputs": [
    {
     "name": "stdout",
     "output_type": "stream",
     "text": [
      "(5000, 3881)\n"
     ]
    }
   ],
   "source": [
    "from sklearn.feature_extraction.text import CountVectorizer\n",
    "count_vector = CountVectorizer()\n",
    "text_BOW = count_vector.fit_transform(text_all)\n",
    "print(text_BOW.shape)"
   ]
  },
  {
   "cell_type": "code",
   "execution_count": 111,
   "metadata": {},
   "outputs": [
    {
     "name": "stdout",
     "output_type": "stream",
     "text": [
      "<class 'scipy.sparse.csr.csr_matrix'>\n"
     ]
    }
   ],
   "source": [
    "print(type(text_BOW))"
   ]
  },
  {
   "cell_type": "code",
   "execution_count": 112,
   "metadata": {},
   "outputs": [
    {
     "name": "stdout",
     "output_type": "stream",
     "text": [
      "(5000, 3881)\n"
     ]
    }
   ],
   "source": [
    "print(text_BOW.get_shape())"
   ]
  },
  {
   "cell_type": "markdown",
   "metadata": {},
   "source": [
    "#### Bi-Grams and n-Grams:"
   ]
  },
  {
   "cell_type": "code",
   "execution_count": 113,
   "metadata": {},
   "outputs": [
    {
     "name": "stdout",
     "output_type": "stream",
     "text": [
      "<class 'scipy.sparse.csr.csr_matrix'>\n"
     ]
    }
   ],
   "source": [
    "count_vect = CountVectorizer(ngram_range=(1,2) ) \n",
    "final_bigram_counts = count_vect.fit_transform(text_all)\n",
    "print(type(final_bigram_counts))"
   ]
  },
  {
   "cell_type": "code",
   "execution_count": 114,
   "metadata": {},
   "outputs": [
    {
     "name": "stderr",
     "output_type": "stream",
     "text": [
      "C:\\ProgramData\\Anaconda3\\lib\\site-packages\\sklearn\\utils\\validation.py:595: DataConversionWarning: Data with input dtype int64 was converted to float64 by StandardScaler.\n",
      "  warnings.warn(msg, DataConversionWarning)\n",
      "C:\\ProgramData\\Anaconda3\\lib\\site-packages\\sklearn\\utils\\validation.py:595: DataConversionWarning: Data with input dtype int64 was converted to float64 by StandardScaler.\n",
      "  warnings.warn(msg, DataConversionWarning)\n"
     ]
    },
    {
     "name": "stdout",
     "output_type": "stream",
     "text": [
      "(5000, 16235)\n"
     ]
    }
   ],
   "source": [
    "from sklearn.preprocessing import StandardScaler\n",
    "std_data = StandardScaler(with_mean = False).fit_transform(final_bigram_counts)\n",
    "#print(std_data)\n",
    "print(std_data.shape)\n"
   ]
  },
  {
   "cell_type": "code",
   "execution_count": 115,
   "metadata": {},
   "outputs": [
    {
     "data": {
      "text/plain": [
       "scipy.sparse.csr.csr_matrix"
      ]
     },
     "execution_count": 115,
     "metadata": {},
     "output_type": "execute_result"
    }
   ],
   "source": [
    "type(std_data)"
   ]
  },
  {
   "cell_type": "code",
   "execution_count": 116,
   "metadata": {},
   "outputs": [
    {
     "name": "stdout",
     "output_type": "stream",
     "text": [
      "(2,)\n"
     ]
    }
   ],
   "source": [
    "print(total_project.shape)"
   ]
  },
  {
   "cell_type": "markdown",
   "metadata": {},
   "source": [
    "#### tfIDF vectorize : Eassy"
   ]
  },
  {
   "cell_type": "code",
   "execution_count": 117,
   "metadata": {},
   "outputs": [
    {
     "name": "stdout",
     "output_type": "stream",
     "text": [
      "(5000, 17390)\n",
      "====================================================================================================\n"
     ]
    }
   ],
   "source": [
    "from sklearn.feature_extraction.text import TfidfVectorizer\n",
    "vectorizer = TfidfVectorizer()\n",
    "X = vectorizer.fit_transform(text)\n",
    "print(X.shape)\n",
    "print(\"=\"*100)\n",
    "#print(vectorizer.get_feature_names())"
   ]
  },
  {
   "cell_type": "markdown",
   "metadata": {},
   "source": [
    "#### tfIDF vectorize : project_title\n"
   ]
  },
  {
   "cell_type": "code",
   "execution_count": 137,
   "metadata": {},
   "outputs": [
    {
     "name": "stdout",
     "output_type": "stream",
     "text": [
      "(5000, 3881)\n",
      "====================================================================================================\n"
     ]
    }
   ],
   "source": [
    "from sklearn.feature_extraction.text import TfidfVectorizer\n",
    "vectorizer = TfidfVectorizer()\n",
    "final_tf_idf = vectorizer.fit_transform(text_all)\n",
    "print(final_tf_idf.shape)\n",
    "print(\"=\"*100)\n",
    "#print(vectorizer.get_feature_names())"
   ]
  },
  {
   "cell_type": "code",
   "execution_count": 138,
   "metadata": {},
   "outputs": [],
   "source": [
    "# Standardization \n",
    "from sklearn.preprocessing import StandardScaler\n",
    "std = StandardScaler(with_mean = False)\n",
    "final_tf_idf = std.fit_transform(final_tf_idf)"
   ]
  },
  {
   "cell_type": "code",
   "execution_count": 139,
   "metadata": {},
   "outputs": [
    {
     "name": "stdout",
     "output_type": "stream",
     "text": [
      "(5000, 3881)\n"
     ]
    }
   ],
   "source": [
    "print(final_tf_idf.shape)"
   ]
  },
  {
   "cell_type": "markdown",
   "metadata": {},
   "source": [
    "#### using pretrained model : Avg Word2Vec on 'project title'"
   ]
  },
  {
   "cell_type": "code",
   "execution_count": 120,
   "metadata": {},
   "outputs": [
    {
     "name": "stdout",
     "output_type": "stream",
     "text": [
      "Loading Glove Model\n"
     ]
    },
    {
     "name": "stderr",
     "output_type": "stream",
     "text": [
      "400000it [00:08, 46218.12it/s]\n"
     ]
    },
    {
     "name": "stdout",
     "output_type": "stream",
     "text": [
      "Done. 400000  words loaded!\n"
     ]
    }
   ],
   "source": [
    "## preparing pretrained models \n",
    "def loadGloveModel(glove_File):\n",
    "    print (\"Loading Glove Model\")\n",
    "    f = open(glove_File,'r', encoding=\"utf8\")\n",
    "    model = {}\n",
    "    for line in tqdm(f):\n",
    "        splitLine = line.split()\n",
    "        word = splitLine[0]\n",
    "        embedding = np.array([float(val) for val in splitLine[1:]])\n",
    "        model[word] = embedding\n",
    "    print (\"Done.\",len(model),\" words loaded!\")\n",
    "    return model\n",
    "model = loadGloveModel('glove.6B.50d.txt')"
   ]
  },
  {
   "cell_type": "code",
   "execution_count": 121,
   "metadata": {},
   "outputs": [],
   "source": [
    "## storing variable into pickle file\n",
    "import pickle\n",
    "with open('glove_vectors', 'rb') as f:\n",
    "    model = pickle.load(f)\n",
    "    glove_words = set(model.keys())"
   ]
  },
  {
   "cell_type": "code",
   "execution_count": 122,
   "metadata": {},
   "outputs": [
    {
     "name": "stderr",
     "output_type": "stream",
     "text": [
      "100%|███████████████████████████████████████████████████████████████████████████| 5000/5000 [00:00<00:00, 53476.54it/s]\n"
     ]
    },
    {
     "name": "stdout",
     "output_type": "stream",
     "text": [
      "5000\n",
      "==================================================\n",
      "300\n",
      "==================================================\n",
      "300\n"
     ]
    }
   ],
   "source": [
    "## average word2vec\n",
    "avg_word2vec = []\n",
    "for sentence in tqdm(text_all):## for each reviews \n",
    "    vectors = np.zeros(300)\n",
    "    #print(vectors)\n",
    "    n_count = 0 ## no. of words in valid reviews\n",
    "    for words in sentence.split():\n",
    "        if words in glove_words:\n",
    "            vectors = vectors + model[words]\n",
    "            n_count = n_count + 1\n",
    "    if n_count != 0:\n",
    "        vectors = vectors / n_count\n",
    "    avg_word2vec.append(vectors)\n",
    "\n",
    "print(len(avg_word2vec))\n",
    "print(\"=\"*50)\n",
    "print(len(avg_word2vec[0]))\n",
    "print(\"=\"*50)\n",
    "print(len(avg_word2vec[1]))\n",
    "    "
   ]
  },
  {
   "cell_type": "code",
   "execution_count": 123,
   "metadata": {},
   "outputs": [
    {
     "name": "stdout",
     "output_type": "stream",
     "text": [
      "5000\n",
      "300\n"
     ]
    }
   ],
   "source": [
    "print(len(avg_word2vec))\n",
    "print(len(avg_word2vec[10]))"
   ]
  },
  {
   "cell_type": "markdown",
   "metadata": {},
   "source": [
    "#### using pretrained :TFIDF  w2v"
   ]
  },
  {
   "cell_type": "code",
   "execution_count": 124,
   "metadata": {},
   "outputs": [],
   "source": [
    "# S = [\"abc def pqr\", \"def def def abc\", \"pqr pqr def\"]\n",
    "tfidf_model = TfidfVectorizer()\n",
    "tfidf_model.fit(text)\n",
    "# we are converting a dictionary with word as a key, and the idf as a value\n",
    "dictionary = dict(zip(tfidf_model.get_feature_names(), list(tfidf_model.idf_)))\n",
    "tfidf_words = set(tfidf_model.get_feature_names())"
   ]
  },
  {
   "cell_type": "code",
   "execution_count": 125,
   "metadata": {},
   "outputs": [
    {
     "name": "stderr",
     "output_type": "stream",
     "text": [
      "100%|█████████████████████████████████████████████████████████████████████████████| 5000/5000 [00:12<00:00, 414.60it/s]\n"
     ]
    },
    {
     "name": "stdout",
     "output_type": "stream",
     "text": [
      "5000\n",
      "300\n"
     ]
    }
   ],
   "source": [
    "# average Word2Vec\n",
    "# compute average word2vec for each review.\n",
    "tfidf_w2v_vectors = []; # the avg-w2v for each sentence/review is stored in this list\n",
    "for sentence in tqdm(text): # for each review/sentence\n",
    "    vector = np.zeros(300) # as word vectors are of zero length\n",
    "    tf_idf_weight =0; # num of words with a valid vector in the sentence/review\n",
    "    for word in sentence.split(): # for each word in a review/sentence\n",
    "        if (word in glove_words) and (word in tfidf_words):\n",
    "            vec = model[word] # getting the vector for each word\n",
    "            # here we are multiplying idf value(dictionary[word]) and the tf value((sentence.count(word)/len(sentence.split())))\n",
    "            tf_idf = dictionary[word]*(sentence.count(word)/len(sentence.split())) # getting the tfidf value for each word\n",
    "            vector += (vec * tf_idf) # calculating tfidf weighted w2v\n",
    "            tf_idf_weight += tf_idf\n",
    "    if tf_idf_weight != 0:\n",
    "        vector /= tf_idf_weight\n",
    "    tfidf_w2v_vectors.append(vector)\n",
    "\n",
    "print(len(tfidf_w2v_vectors))\n",
    "print(len(tfidf_w2v_vectors[0]))"
   ]
  },
  {
   "cell_type": "markdown",
   "metadata": {},
   "source": [
    "#### `  using pretrained : tfidf : w2v on 'project Title'"
   ]
  },
  {
   "cell_type": "code",
   "execution_count": 126,
   "metadata": {},
   "outputs": [],
   "source": [
    "# S = [\"abc def pqr\", \"def def def abc\", \"pqr pqr def\"]\n",
    "tfidf_model = TfidfVectorizer()\n",
    "tfidf_model.fit(text_all)\n",
    "# we are converting a dictionary with word as a key, and the idf as a value\n",
    "dictionary = dict(zip(tfidf_model.get_feature_names(), list(tfidf_model.idf_)))\n",
    "tfidf_words = set(tfidf_model.get_feature_names())"
   ]
  },
  {
   "cell_type": "code",
   "execution_count": 127,
   "metadata": {},
   "outputs": [
    {
     "name": "stderr",
     "output_type": "stream",
     "text": [
      "100%|███████████████████████████████████████████████████████████████████████████| 5000/5000 [00:00<00:00, 29098.05it/s]\n"
     ]
    },
    {
     "name": "stdout",
     "output_type": "stream",
     "text": [
      "5000\n",
      "300\n"
     ]
    }
   ],
   "source": [
    "# average Word2Vec\n",
    "# compute average word2vec for each review.\n",
    "tfidf_w2v_vectors = []; # the avg-w2v for each sentence/review is stored in this list\n",
    "for sentence in tqdm(text_all): # for each review/sentence\n",
    "    vector = np.zeros(300) # as word vectors are of zero length\n",
    "    tf_idf_weight =0; # num of words with a valid vector in the sentence/review\n",
    "    for word in sentence.split(): # for each word in a review/sentence\n",
    "        if (word in glove_words) and (word in tfidf_words):\n",
    "            vec = model[word] # getting the vector for each word\n",
    "            # here we are multiplying idf value(dictionary[word]) and the tf value((sentence.count(word)/len(sentence.split())))\n",
    "            tf_idf = dictionary[word]*(sentence.count(word)/len(sentence.split())) # getting the tfidf value for each word\n",
    "            vector += (vec * tf_idf) # calculating tfidf weighted w2v\n",
    "            tf_idf_weight += tf_idf\n",
    "    if tf_idf_weight != 0:\n",
    "        vector /= tf_idf_weight\n",
    "    tfidf_w2v_vectors.append(vector)\n",
    "\n",
    "print(len(tfidf_w2v_vectors))\n",
    "print(len(tfidf_w2v_vectors[0]))"
   ]
  },
  {
   "cell_type": "code",
   "execution_count": 128,
   "metadata": {},
   "outputs": [],
   "source": [
    "std_data = std_data.todense()"
   ]
  },
  {
   "cell_type": "markdown",
   "metadata": {},
   "source": [
    "# TSNE:"
   ]
  },
  {
   "cell_type": "markdown",
   "metadata": {},
   "source": [
    "### TSNE with `BOW` encoding of `project_title` feature :"
   ]
  },
  {
   "cell_type": "code",
   "execution_count": 129,
   "metadata": {},
   "outputs": [],
   "source": [
    "# please write all of the code with proper documentation and proper titles for each subsection\n",
    "# when you plot any graph make sure you use \n",
    "    # a. Title, that describes your plot, this will be very helpful to the reader\n",
    "    # b. Legends if needed\n",
    "    # c. X-axis label\n",
    "    # d. Y-axis label\n",
    "from sklearn.manifold import TSNE\n",
    "model = TSNE(n_components=2, random_state=0, perplexity = 30, n_iter = 5000)\n",
    "tsne_data = model.fit_transform(std_data)\n"
   ]
  },
  {
   "cell_type": "code",
   "execution_count": 143,
   "metadata": {},
   "outputs": [
    {
     "name": "stdout",
     "output_type": "stream",
     "text": [
      "(5000, 16235)\n"
     ]
    }
   ],
   "source": [
    "print(std_data.shape)"
   ]
  },
  {
   "cell_type": "code",
   "execution_count": 150,
   "metadata": {},
   "outputs": [
    {
     "name": "stderr",
     "output_type": "stream",
     "text": [
      "C:\\ProgramData\\Anaconda3\\lib\\site-packages\\seaborn\\axisgrid.py:230: UserWarning: The `size` paramter has been renamed to `height`; please update your code.\n",
      "  warnings.warn(msg, UserWarning)\n"
     ]
    },
    {
     "data": {
      "image/png": "[encoded data removed]",
      "text/plain": [
       "<Figure size 483.875x432 with 1 Axes>"
      ]
     },
     "metadata": {
      "needs_background": "light"
     },
     "output_type": "display_data"
    }
   ],
   "source": [
    "##https://www.kaggle.com/premvardhan/amazon-fine-food-review-tsne-visualization\n",
    "from sklearn.manifold import TSNE\n",
    "model = TSNE(n_components=2, random_state=0, perplexity = 30, n_iter = 5000)\n",
    "# configuring the parameteres\n",
    "# the number of components = 2\n",
    "# default perplexity = 30\n",
    "# default learning rate = 200\n",
    "# default Maximum number of iterations for the optimization = 1000\n",
    "\n",
    "tsne_data = model.fit_transform(std_data)\n",
    "\n",
    "\n",
    "# creating a new data frame which help us in ploting the result data\n",
    "tsne_data = np.vstack((tsne_data.T, final_df)).T\n",
    "tsne_df = pd.DataFrame(data=tsne_data, columns=(\"dim1\", \"dim2\", \"score\"))\n",
    "\n",
    "# Ploting the result of tsne\n",
    "sns.FacetGrid(tsne_df, hue=\"score\", size=6).map(plt.scatter, 'dim1', 'dim2').add_legend()\n",
    "plt.title(\"TSNE for Bag of Words\")\n",
    "plt.show()"
   ]
  },
  {
   "cell_type": "markdown",
   "metadata": {},
   "source": [
    "### observation :\n",
    "                    this plot seperatlt well as compare to other plots and we saw plot we can identified Approved project is more compare to rejected project."
   ]
  },
  {
   "cell_type": "markdown",
   "metadata": {},
   "source": [
    "# TSNE with `TFIDF` encoding of `project_title` feature :\n"
   ]
  },
  {
   "cell_type": "code",
   "execution_count": 143,
   "metadata": {},
   "outputs": [],
   "source": [
    "# Standardization \n",
    "from sklearn.preprocessing import StandardScaler\n",
    "std = StandardScaler(with_mean = False)\n",
    "final_tf_idf = std.fit_transform(final_tf_idf)"
   ]
  },
  {
   "cell_type": "code",
   "execution_count": 144,
   "metadata": {},
   "outputs": [],
   "source": [
    "# Converting sparse matrix to dense because tnse takes dense vector\n",
    "final_tf_idf = final_tf_idf.todense()"
   ]
  },
  {
   "cell_type": "code",
   "execution_count": 145,
   "metadata": {},
   "outputs": [
    {
     "name": "stdout",
     "output_type": "stream",
     "text": [
      "(5000, 3881)\n"
     ]
    }
   ],
   "source": [
    "print(final_tf_idf.shape)"
   ]
  },
  {
   "cell_type": "code",
   "execution_count": 146,
   "metadata": {},
   "outputs": [
    {
     "name": "stderr",
     "output_type": "stream",
     "text": [
      "C:\\ProgramData\\Anaconda3\\lib\\site-packages\\seaborn\\axisgrid.py:230: UserWarning: The `size` paramter has been renamed to `height`; please update your code.\n",
      "  warnings.warn(msg, UserWarning)\n"
     ]
    },
    {
     "data": {
      "image/png": "[encoded data removed]",
      "text/plain": [
       "<Figure size 540.75x432 with 1 Axes>"
      ]
     },
     "metadata": {
      "needs_background": "light"
     },
     "output_type": "display_data"
    }
   ],
   "source": [
    "##https://www.kaggle.com/premvardhan/amazon-fine-food-review-tsne-visualization\n",
    "from sklearn.manifold import TSNE\n",
    "model = TSNE(n_components = 2, perplexity = 50)\n",
    "tsne_data = model.fit_transform(final_tf_idf)\n",
    "\n",
    "tsne_data = np.vstack((tsne_data.T,final_df)).T\n",
    "tsne_df = pd.DataFrame(data = tsne_data, columns = (\"dim1\", \"dim2\", \"project_is_Approved\"))\n",
    "sns.FacetGrid(tsne_df, hue = \"project_is_Approved\", size = 6).map(plt.scatter, \"dim1\", \"dim2\").add_legend()\n",
    "plt.title(\"TSNE for TF-IDF\")\n",
    "plt.show()"
   ]
  },
  {
   "cell_type": "markdown",
   "metadata": {},
   "source": [
    "### observation: \n",
    "                  this presentation looks like bow and it is overlapped."
   ]
  },
  {
   "cell_type": "markdown",
   "metadata": {},
   "source": [
    "# TSNE with `AVG W2V` encoding of `project_title` feature :"
   ]
  },
  {
   "cell_type": "code",
   "execution_count": 132,
   "metadata": {},
   "outputs": [
    {
     "name": "stderr",
     "output_type": "stream",
     "text": [
      "C:\\ProgramData\\Anaconda3\\lib\\site-packages\\seaborn\\axisgrid.py:230: UserWarning: The `size` paramter has been renamed to `height`; please update your code.\n",
      "  warnings.warn(msg, UserWarning)\n"
     ]
    },
    {
     "data": {
      "image/png": "[encoded data removed]",
      "text/plain": [
       "<Figure size 540.75x432 with 1 Axes>"
      ]
     },
     "metadata": {
      "needs_background": "light"
     },
     "output_type": "display_data"
    }
   ],
   "source": [
    "##https://www.kaggle.com/premvardhan/amazon-fine-food-review-tsne-visualization\n",
    "from sklearn.manifold import TSNE\n",
    "model = TSNE(n_components=2, random_state=0, perplexity = 20, n_iter = 5000)\n",
    "\n",
    "tsne_data = model.fit_transform(avg_word2vec)\n",
    "\n",
    "tsne_data = np.vstack((tsne_data.T,final_df)).T\n",
    "tsne_df = pd.DataFrame(data=tsne_data, columns=(\"dim1\", \"dim2\", \"project_is_Approved\"))\n",
    "\n",
    "# Ploting the result of tsne\n",
    "sns.FacetGrid(tsne_df, hue=\"project_is_Approved\", size=6).map(plt.scatter, 'dim1', 'dim2').add_legend()\n",
    "plt.title(\"TSNE for Average Word2vec\")\n",
    "plt.show()"
   ]
  },
  {
   "cell_type": "markdown",
   "metadata": {},
   "source": [
    "### observation:\n",
    "                    in this plot project is Approved or not both are not well seperated.they are intermixed."
   ]
  },
  {
   "cell_type": "markdown",
   "metadata": {},
   "source": [
    "#  TSNE with `TFIDF Weighted W2V` encoding of `project_title` feature :"
   ]
  },
  {
   "cell_type": "code",
   "execution_count": 135,
   "metadata": {},
   "outputs": [
    {
     "name": "stderr",
     "output_type": "stream",
     "text": [
      "C:\\ProgramData\\Anaconda3\\lib\\site-packages\\seaborn\\axisgrid.py:230: UserWarning: The `size` paramter has been renamed to `height`; please update your code.\n",
      "  warnings.warn(msg, UserWarning)\n"
     ]
    },
    {
     "data": {
      "image/png": "[encoded data removed]",
      "text/plain": [
       "<Figure size 540.75x432 with 1 Axes>"
      ]
     },
     "metadata": {
      "needs_background": "light"
     },
     "output_type": "display_data"
    }
   ],
   "source": [
    "##https://www.kaggle.com/premvardhan/amazon-fine-food-review-tsne-visualization\n",
    "from sklearn.manifold import TSNE\n",
    "model = TSNE(n_components=2, random_state=0, perplexity = 50, n_iter = 5000)\n",
    "\n",
    "tsne_data = model.fit_transform(tfidf_w2v_vectors)\n",
    "\n",
    "tsne_data = np.vstack((tsne_data.T, final_df)).T\n",
    "tsne_df = pd.DataFrame(data=tsne_data, columns=(\"dim1\", \"dim2\", \"project_is_Approved\"))\n",
    "\n",
    "# Ploting the result of tsne\n",
    "sns.FacetGrid(tsne_df, hue=\"project_is_Approved\", size=6).map(plt.scatter, 'dim1', 'dim2').add_legend()\n",
    "plt.title(\"TSNE for TF-IDF Word2vec\")\n",
    "plt.show()"
   ]
  },
  {
   "cell_type": "markdown",
   "metadata": {},
   "source": [
    "### observation:\n",
    "                    this plot also not seperating well ."
   ]
  },
  {
   "cell_type": "markdown",
   "metadata": {},
   "source": [
    "# conclusion :\n",
    "                      ==> as TSNE plot gives us to better representation to Project is approved or not.\n",
    "                      ==>by seen that visualization eassiy we can understand about project Approval."
   ]
  }
 ],
 "metadata": {
  "kernelspec": {
   "display_name": "Python 3",
   "language": "python",
   "name": "python3"
  },
  "language_info": {
   "codemirror_mode": {
    "name": "ipython",
    "version": 3
   },
   "file_extension": ".py",
   "mimetype": "text/x-python",
   "name": "python",
   "nbconvert_exporter": "python",
   "pygments_lexer": "ipython3",
   "version": "3.7.1"
  }
 },
 "nbformat": 4,
 "nbformat_minor": 2
}
